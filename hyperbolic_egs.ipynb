{
 "cells": [
  {
   "cell_type": "code",
   "execution_count": 1,
   "id": "f703fe83-dc2d-4d53-94f7-4738f401eceb",
   "metadata": {},
   "outputs": [],
   "source": [
    "from geo_diff import Manifold\n",
    "import sympy as sp\n",
    "from sympy import symbols, Matrix"
   ]
  },
  {
   "cell_type": "markdown",
   "id": "c5a4298b-327a-4c49-9fff-e4444e1684a1",
   "metadata": {},
   "source": [
    "Te hyperbolic $n-$dimensional half space is defined as $(\\mathbb{H}^n,g)$ by\n",
    "\n",
    "$$\\mathbb{H}^n:=\\left\\{\\left(x^1,...,x^{n+1}\\right)\\in\\mathbb{R}^{1,n}\\,\\,\\big|\\,\\,\\eta(x,x)=1\\,\\,\\&\\,\\,x^{n+1}>0\\right\\}\\hookrightarrow(\\mathbb{R}^{n+1},\\eta)=:\\mathbb{R}^{1,n}$$\n",
    "$$g=\\frac{dr\\otimes dr}{1+r^2}+r^2g_{\\mathbb{S}^{n-1}}=dt\\otimes dt +  \\sinh^2(t)g_{\\mathbb{S}^{n-1}}\\quad\\text{on}\\quad\\mathbb{R}^+\\times\\mathbb{S}^{n-1}$$\n",
    "\n",
    "#### Generalities on curvature\n",
    "\n",
    "Let $\\left(M^\\eta, g, \\nabla\\right)$ be a $n-$dimensional Riemannian (or Lorentzian) manifold of metric $g=\\textcolor{gray}{\\sum_{\\mu,\\nu}}g_{\\mu\\nu} dx^\\mu\\odot dx^\\nu$, provided with its Levi--Civita connection, locally described by $\\nabla_\\mu\\partial_\\nu=\\textcolor{gray}{\\sum_\\lambda}\\Gamma^\\lambda_{\\mu\\nu}\\partial_\\lambda\\,:$\n",
    "$$\\Gamma^\\rho_{\\mu\\nu}=\\frac{1}{2}\\textcolor{gray}{\\sum_{\\lambda=1}^n}g^{\\rho\\lambda}\\left(\\partial_\\nu g_{\\mu\\lambda}+\\partial_\\mu g_{\\nu\\lambda}-\\partial_\\lambda g_{\\mu\\nu}\\right)$$\n",
    "The curvature of $(M, g)$ is completely characterized by the Riemann tensor\n",
    "\n",
    "$$\\mathbf{Riem}=\\textcolor{gray}{\\sum_{\\lambda=1}^n}g_{\\lambda\\rho}{R^\\lambda}_{\\sigma\\mu\\nu}dx^\\rho\\wedge dx^\\sigma\\otimes dx^\\mu\\wedge dx^\\nu$$\n",
    "of components\n",
    "$${R^\\rho}_{\\sigma\\mu\\nu}=\\textcolor{gray}{\\sum_{\\lambda=1}^n} \\partial_\\mu\\Gamma^\\rho_{\\nu\\sigma}-\\partial_\\nu\\Gamma^\\rho_{\\mu\\sigma}+\\Gamma^\\rho_{\\mu\\lambda}\\Gamma^\\lambda_{\\nu\\sigma}+\\Gamma^\\rho_{\\nu\\lambda}\\Gamma^\\lambda_{\\mu\\sigma}$$\n",
    "The Riemann tensor posses some non--trivial traces, as the Ricci tensor and the scalar curvature\n",
    "\n",
    "\\begin{align*}\n",
    "    \\mathbf{Ric}&=\\textcolor{gray}{\\sum_{\\rho=1}^n}\\overbrace{{R^\\rho}_{\\mu\\rho\\nu}}^{=:R_{\\mu\\nu}}dx^\\mu\\odot dx^\\nu\\\\\n",
    "    \\mathbf{R}&=\\textcolor{gray}{\\sum_{\\mu,\\nu=1}^n}g^{\\mu\\nu}R_{\\mu\\nu}\n",
    "\\end{align*}\n",
    "\n",
    "### Let's compute the curvature of some $\\mathbb{H}^n$."
   ]
  },
  {
   "cell_type": "markdown",
   "id": "6effa9d5-39fe-4719-beca-b79e04493ac1",
   "metadata": {},
   "source": [
    "## The Hyperbolic half-plane, $n=2$.\n",
    "\n",
    "$$g=dt\\odot dt+\\sinh^2(t)d\\phi\\odot d\\phi$$\n",
    "$$\\Rightarrow\\quad\\left(g_{\\mu\\nu}\\right)=\\begin{bmatrix}\n",
    "    1&0\\\\\n",
    "    0&\\sinh^2(t)\n",
    "\\end{bmatrix},\\quad\\mu,\\nu\\in\\{t,\\phi\\}$$"
   ]
  },
  {
   "cell_type": "code",
   "execution_count": 2,
   "id": "10327128-b860-4a44-9179-041d4f30c044",
   "metadata": {},
   "outputs": [
    {
     "name": "stdout",
     "output_type": "stream",
     "text": [
      "Ricci Tensor:\n",
      "⎡-1      0    ⎤\n",
      "⎢             ⎥\n",
      "⎢         2   ⎥\n",
      "⎣0   -sinh (t)⎦\n",
      "\n",
      "Scalar Curvature: -2\n"
     ]
    }
   ],
   "source": [
    "# Poincaré half plane\n",
    "t, phi = symbols('t phi')\n",
    "g_hyperbolic = Matrix([[1, 0], [0, sp.sinh(t)**2]])\n",
    "manifold_hyperbolic = Manifold(g_hyperbolic, [t, phi])\n",
    "\n",
    "manifold_hyperbolic.compute_christoffel_symbols()\n",
    "manifold_hyperbolic.compute_riemann_tensor()\n",
    "manifold_hyperbolic.compute_ricci_tensor()\n",
    "manifold_hyperbolic.compute_scalar_curvature()\n",
    "\n",
    "manifold_hyperbolic.pretty_print_matrix(manifold_hyperbolic.ricci_tensor, \"Ricci Tensor\")\n",
    "print(\"\\nScalar Curvature:\", manifold_hyperbolic.scalar_curvature)"
   ]
  },
  {
   "cell_type": "markdown",
   "id": "777a688f-3a46-4c4a-aafa-f408b10817a0",
   "metadata": {},
   "source": [
    "## The Hyperbolic Half-space, $n=3$\n",
    "\n",
    "$$g=dt\\odot dt+\\sinh^2(t) d\\theta\\odot d\\theta+\\sinh^2(t)\\sin^2(\\theta) d\\phi\\odot d\\phi$$\n",
    "\n",
    "$$\\Rightarrow\\quad\\left(g_{\\mu\\nu}\\right)=\\begin{bmatrix}\n",
    "    1&0&0\\\\\n",
    "    0&\\sinh^2(t)&0\\\\\n",
    "    0&0&\\sinh^2(t)\\sin^2(\\theta)\n",
    "\\end{bmatrix},\\quad\\mu,\\nu\\in\\{t, \\theta, \\phi\\}$$\n"
   ]
  },
  {
   "cell_type": "code",
   "execution_count": 3,
   "id": "e15d21f7-b7ac-424b-b30b-c9a55d906b87",
   "metadata": {},
   "outputs": [
    {
     "name": "stdout",
     "output_type": "stream",
     "text": [
      "3D Ricci Tensor:\n",
      "⎡-2       0                0         ⎤\n",
      "⎢                                    ⎥\n",
      "⎢           2                        ⎥\n",
      "⎢0   -2⋅sinh (t)           0         ⎥\n",
      "⎢                                    ⎥\n",
      "⎢                       2        2   ⎥\n",
      "⎣0        0       -2⋅sin (θ)⋅sinh (t)⎦\n",
      "\n",
      "3D Scalar Curvature: -6\n"
     ]
    }
   ],
   "source": [
    "# Poincaré half space\n",
    "t, theta, phi = symbols('t theta phi')\n",
    "g_3d_hyp = Matrix([\n",
    "    [1, 0, 0],\n",
    "    [0, sp.sinh(t)**2, 0],\n",
    "    [0, 0, sp.sinh(t)**2 * sp.sin(theta)**2]\n",
    "])\n",
    "manifold_3d_hyp = Manifold(g_3d_hyp, [t, theta, phi])\n",
    "\n",
    "manifold_3d_hyp.compute_christoffel_symbols()\n",
    "manifold_3d_hyp.compute_riemann_tensor()\n",
    "manifold_3d_hyp.compute_ricci_tensor()\n",
    "manifold_3d_hyp.compute_scalar_curvature()\n",
    "\n",
    "manifold_3d_hyp.pretty_print_matrix(manifold_3d_hyp.ricci_tensor, \"3D Ricci Tensor\")\n",
    "print(\"\\n3D Scalar Curvature:\", manifold_3d_hyp.scalar_curvature)"
   ]
  },
  {
   "cell_type": "markdown",
   "id": "82d069fb-fb4f-467b-b18b-d06fcff67bc7",
   "metadata": {},
   "source": [
    "## The Hyperbolic Half-hyperspace, $n=4$\n",
    "\n",
    "$$g=dt\\odot dt+\\sinh^2(t) d\\theta\\odot d\\theta+\\sinh^2(t)\\sin^2(\\theta)d\\psi\\odot d\\psi+\\sinh^2(t)\\sin^2(\\theta)\\sin^2(\\psi)d\\phi\\odot d\\phi$$\n",
    "\n",
    "$$\\Rightarrow\\quad\\left(g_{\\mu\\nu}\\right)=\\begin{bmatrix}\n",
    "    1&0&0&0\\\\\n",
    "    0&\\sinh^2(t)&0&0\\\\\n",
    "    0&0&\\sinh^2(t)\\sin^2(\\theta)&0\\\\\n",
    "    0&0&0&\\sinh^2(t)\\sin^2(\\theta)\\sin^2(\\psi)\n",
    "\\end{bmatrix},\\quad\\mu,\\nu\\in\\{t, \\theta, \\psi, \\phi\\}$$\n"
   ]
  },
  {
   "cell_type": "code",
   "execution_count": 4,
   "id": "8d430219-814e-4ae0-bb3f-bc525d19cfd0",
   "metadata": {},
   "outputs": [
    {
     "name": "stdout",
     "output_type": "stream",
     "text": [
      "4D Ricci Tensor:\n",
      "⎡-3       0                0                        0             ⎤\n",
      "⎢                                                                 ⎥\n",
      "⎢           2                                                     ⎥\n",
      "⎢0   -3⋅sinh (t)           0                        0             ⎥\n",
      "⎢                                                                 ⎥\n",
      "⎢                       2        2                                ⎥\n",
      "⎢0        0       -3⋅sin (θ)⋅sinh (t)               0             ⎥\n",
      "⎢                                                                 ⎥\n",
      "⎢                                            2       2        2   ⎥\n",
      "⎣0        0                0           -3⋅sin (ψ)⋅sin (θ)⋅sinh (t)⎦\n",
      "\n",
      "4D Scalar Curvature: -12\n"
     ]
    }
   ],
   "source": [
    "# Poincaré half hyperspace\n",
    "\n",
    "t, theta, psi, phi = symbols('t theta psi phi')\n",
    "g_4d_hyp = Matrix([\n",
    "    [1, 0, 0, 0],\n",
    "    [0, sp.sinh(t)**2, 0, 0],\n",
    "    [0, 0, sp.sinh(t)**2 * sp.sin(theta)**2, 0],\n",
    "    [0, 0, 0, sp.sinh(t)**2 * sp.sin(theta)**2 * sp.sin(psi)**2]\n",
    "])\n",
    "manifold_4d_hyp = Manifold(g_4d_hyp, [t, theta, psi, phi])\n",
    "\n",
    "manifold_4d_hyp.compute_christoffel_symbols()\n",
    "manifold_4d_hyp.compute_riemann_tensor()\n",
    "manifold_4d_hyp.compute_ricci_tensor()\n",
    "manifold_4d_hyp.compute_scalar_curvature()\n",
    "\n",
    "manifold_4d_hyp.pretty_print_matrix(manifold_4d_hyp.ricci_tensor, \"4D Ricci Tensor\")\n",
    "print(\"\\n4D Scalar Curvature:\", manifold_4d_hyp.scalar_curvature)"
   ]
  },
  {
   "cell_type": "code",
   "execution_count": null,
   "id": "7e18ddce-2505-49a5-bbb4-65de8ff9250c",
   "metadata": {},
   "outputs": [],
   "source": []
  }
 ],
 "metadata": {
  "kernelspec": {
   "display_name": "Python 3 (ipykernel)",
   "language": "python",
   "name": "python3"
  },
  "language_info": {
   "codemirror_mode": {
    "name": "ipython",
    "version": 3
   },
   "file_extension": ".py",
   "mimetype": "text/x-python",
   "name": "python",
   "nbconvert_exporter": "python",
   "pygments_lexer": "ipython3",
   "version": "3.9.6"
  }
 },
 "nbformat": 4,
 "nbformat_minor": 5
}
