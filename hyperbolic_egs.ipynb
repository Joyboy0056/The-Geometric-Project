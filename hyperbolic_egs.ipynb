{
 "cells": [
  {
   "cell_type": "code",
   "execution_count": 1,
   "id": "f703fe83-dc2d-4d53-94f7-4738f401eceb",
   "metadata": {},
   "outputs": [],
   "source": [
    "from geo_diff import Manifold\n",
    "import sympy as sp\n",
    "from sympy import symbols, Matrix\n",
    "\n",
    "from sympy.printing.latex import latex"
   ]
  },
  {
   "cell_type": "markdown",
   "id": "c5a4298b-327a-4c49-9fff-e4444e1684a1",
   "metadata": {},
   "source": [
    "## **Construction of the Hyperbolic metric**\n",
    "\n",
    "The hyperbolic $n-$dimensional half space is defined as $(\\mathbb{H}^n,g)$ by\n",
    "\n",
    "$$\\mathbb{H}^n:=\\left\\{\\left(x^1,...,x^{n+1}\\right)\\in\\mathbb{R}^{1,n}\\,\\,\\big|\\,\\,\\eta(x,x)=-1\\,\\,\\&\\,\\,x^{n+1}>0\\right\\}\\hookrightarrow(\\mathbb{R}^{n+1},\\eta)=:\\mathbb{R}^{1,n}$$\n",
    "$$g=\\frac{dr\\otimes dr}{1+r^2}+r^2g_{\\mathbb{S}^{n-1}}=ds\\otimes ds +  \\sinh^2(s)g_{\\mathbb{S}^{n-1}}\\quad\\text{on}\\quad\\mathbb{R}^+\\times\\mathbb{S}^{n-1}$$\n",
    "\n",
    "Indeed, the condition $\\eta(x,x)=-1$ implies $\\delta_{\\alpha\\beta}x^\\alpha x^\\beta-(x^{n+1})^2=-1\\,\\,\\Leftrightarrow\\,\\,x^{n+1}=\\sqrt{1+\\delta_{\\alpha\\beta}x^\\alpha x^\\beta}=:\\sqrt{1+r^2}$, while the embedding function is defined as $F:\\mathbb{B}^n\\to\\mathbb{R}^{n+1}\\,:\\,F(r,\\theta^1,...,\\theta^{n-1})=\\left(r\\,f^1(\\theta^1,...,\\theta^{n-1}),...,r\\,f^n(\\theta^1,...,\\theta^{n-1}),\\sqrt{1+r^2}\\right)$, for angular functions satisfying $\\delta_{\\alpha\\beta}f^\\alpha f^\\beta=1$. Hence, $F^*\\eta=g$.\n",
    "\n",
    "\n",
    "#### *Remark*\n",
    "We must note that $\\mathbb{H}^n$ is diffeomorphic to the $n-$dimensional Euclidean ball $\\mathbb{B}^n$, while it possesses a non-Euclidean, hyperbolic geometry defined by the metric $g$."
   ]
  },
  {
   "cell_type": "markdown",
   "id": "4a48348e-d938-4071-9c9d-66adb3a2b76b",
   "metadata": {},
   "source": [
    "#### Generalities on curvature\n",
    "\n",
    "Let $\\left(M^\\eta, g, \\nabla\\right)$ be a $n-$dimensional Riemannian (or Lorentzian) manifold of metric $g=\\textcolor{gray}{\\sum_{\\mu,\\nu}}g_{\\mu\\nu} dx^\\mu\\odot dx^\\nu$, provided with its Levi-Civita connection, locally described by $\\nabla_\\mu\\partial_\\nu=\\textcolor{gray}{\\sum_\\lambda}\\Gamma^\\lambda_{\\mu\\nu}\\partial_\\lambda\\,:$\n",
    "$$\\Gamma^\\rho_{\\mu\\nu}=\\frac{1}{2}\\textcolor{gray}{\\sum_{\\lambda=1}^n}g^{\\rho\\lambda}\\left(\\partial_\\nu g_{\\mu\\lambda}+\\partial_\\mu g_{\\nu\\lambda}-\\partial_\\lambda g_{\\mu\\nu}\\right)$$\n",
    "The curvature of $(M, g)$ is completely characterized by the Riemann tensor\n",
    "\n",
    "$$\\mathbf{Riem}_g=\\textcolor{gray}{\\sum_{\\lambda,\\rho,\\sigma,\\mu,\\nu=1}^n}g_{\\lambda\\rho}{R^\\lambda}_{\\sigma\\mu\\nu}\\,dx^\\rho\\wedge dx^\\sigma\\otimes dx^\\mu\\wedge dx^\\nu$$\n",
    "of components\n",
    "$${R^\\rho}_{\\sigma\\mu\\nu}=\\textcolor{gray}{\\sum_{\\lambda=1}^n} \\partial_\\mu\\Gamma^\\rho_{\\nu\\sigma}-\\partial_\\nu\\Gamma^\\rho_{\\mu\\sigma}+\\Gamma^\\rho_{\\mu\\lambda}\\Gamma^\\lambda_{\\nu\\sigma}+\\Gamma^\\rho_{\\nu\\lambda}\\Gamma^\\lambda_{\\mu\\sigma}$$\n",
    "The Riemann tensor posses some non-trivial traces, as the Ricci tensor and the scalar curvature\n",
    "\n",
    "\\begin{align*}\n",
    "    \\mathbf{Ric}_g&=\\textcolor{gray}{\\sum_{\\rho,\\mu,\\nu=1}^n}\\overbrace{{R^\\rho}_{\\mu\\rho\\nu}}^{=:R_{\\mu\\nu}}dx^\\mu\\odot dx^\\nu\\\\\n",
    "    \\mathbf{R}_g&=\\textcolor{gray}{\\sum_{\\mu,\\nu=1}^n}g^{\\mu\\nu}R_{\\mu\\nu}\\\\\n",
    "    \\mathbf{Einst}_g&=\\textcolor{gray}{\\sum_{\\mu,\\nu=1}^n}\\underbrace{R_{\\mu\\nu}-\\frac{1}{2}\\mathbf{R}_g\\,g_{\\mu\\nu}}_{=:G_{\\mu\\nu}}\\,dx^\\mu\\odot dx^\\nu\n",
    "\\end{align*}\n",
    "\n",
    "### Let's compute the curvature of some $\\mathbb{H}^n$."
   ]
  },
  {
   "cell_type": "markdown",
   "id": "6effa9d5-39fe-4719-beca-b79e04493ac1",
   "metadata": {},
   "source": [
    "## The Hyperbolic half-plane, $n=2$.\n",
    "\n",
    "$$g=ds\\odot ds+\\sinh^2(s)d\\phi\\odot d\\phi$$\n",
    "$$\\Rightarrow\\quad\\left(g_{\\mu\\nu}\\right)=\\begin{bmatrix}\n",
    "    1&0\\\\\n",
    "    0&\\sinh^2(s)\n",
    "\\end{bmatrix},\\quad\\mu,\\nu\\in\\{s,\\phi\\}$$"
   ]
  },
  {
   "cell_type": "code",
   "execution_count": 2,
   "id": "10327128-b860-4a44-9179-041d4f30c044",
   "metadata": {},
   "outputs": [
    {
     "name": "stdout",
     "output_type": "stream",
     "text": [
      "Ricci Tensor\n",
      "⎡-1      0    ⎤\n",
      "⎢             ⎥\n",
      "⎢         2   ⎥\n",
      "⎣0   -sinh (s)⎦\n",
      "\n",
      "Scalar Curvature: -2\n",
      "\n",
      "Sectional Curvatures:\n",
      "\n",
      "Sectional curvature in the plane (∂s,∂ϕ): K_sϕ = -1\n"
     ]
    }
   ],
   "source": [
    "# Poincaré half plane\n",
    "s, phi = symbols('s ϕ')\n",
    "g_hyperbolic = Matrix([[1, 0], [0, sp.sinh(s)**2]])\n",
    "H2 = Manifold(g_hyperbolic, [s, phi])\n",
    "\n",
    "H2.get_geometrics()\n",
    "\n",
    "print(\"Ricci Tensor\")\n",
    "sp.pprint(H2.ricci_tensor)\n",
    "print(\"\\nScalar Curvature:\", H2.scalar_curvature)\n",
    "print(\"\\nSectional Curvatures:\\n\")\n",
    "H2.print_sectional_curvatures()"
   ]
  },
  {
   "cell_type": "markdown",
   "id": "777a688f-3a46-4c4a-aafa-f408b10817a0",
   "metadata": {},
   "source": [
    "## The Hyperbolic Half-space, $n=3$\n",
    "\n",
    "$$g=ds\\odot ds+\\sinh^2(s) d\\theta\\odot d\\theta+\\sinh^2(s)\\sin^2(\\theta) d\\phi\\odot d\\phi$$\n",
    "\n",
    "$$\\Rightarrow\\quad\\left(g_{\\mu\\nu}\\right)=\\begin{bmatrix}\n",
    "    1&0&0\\\\\n",
    "    0&\\sinh^2(s)&0\\\\\n",
    "    0&0&\\sinh^2(s)\\sin^2(\\theta)\n",
    "\\end{bmatrix},\\quad\\mu,\\nu\\in\\{s, \\theta, \\phi\\}$$\n"
   ]
  },
  {
   "cell_type": "code",
   "execution_count": 3,
   "id": "e15d21f7-b7ac-424b-b30b-c9a55d906b87",
   "metadata": {},
   "outputs": [
    {
     "name": "stdout",
     "output_type": "stream",
     "text": [
      "3D Ricci Tensor\n",
      "⎡-2       0                0         ⎤\n",
      "⎢                                    ⎥\n",
      "⎢           2                        ⎥\n",
      "⎢0   -2⋅sinh (s)           0         ⎥\n",
      "⎢                                    ⎥\n",
      "⎢                       2        2   ⎥\n",
      "⎣0        0       -2⋅sin (θ)⋅sinh (s)⎦\n",
      "\n",
      "3D Scalar Curvature: -6\n",
      "\n",
      "Sectional Curvatures:\n",
      "\n",
      "Sectional curvature in the plane (∂s,∂θ): K_sθ = -1\n",
      "Sectional curvature in the plane (∂s,∂ϕ): K_sϕ = -1\n",
      "Sectional curvature in the plane (∂θ,∂ϕ): K_θϕ = -1\n"
     ]
    }
   ],
   "source": [
    "# Poincaré half space\n",
    "s, theta, phi = symbols('s θ ϕ')\n",
    "g_3d_hyp = Matrix([\n",
    "    [1, 0, 0],\n",
    "    [0, sp.sinh(s)**2, 0],\n",
    "    [0, 0, sp.sinh(s)**2 * sp.sin(theta)**2]\n",
    "])\n",
    "H3 = Manifold(g_3d_hyp, [s, theta, phi])\n",
    "H3.get_geometrics()\n",
    "\n",
    "print(\"3D Ricci Tensor\")\n",
    "sp.pprint(H3.ricci_tensor)\n",
    "print(\"\\n3D Scalar Curvature:\", H3.scalar_curvature)\n",
    "print(\"\\nSectional Curvatures:\\n\")\n",
    "H3.print_sectional_curvatures()"
   ]
  },
  {
   "cell_type": "markdown",
   "id": "82d069fb-fb4f-467b-b18b-d06fcff67bc7",
   "metadata": {},
   "source": [
    "## The Hyperbolic Half-hyperspace, $n=4$\n",
    "\n",
    "$$g=ds\\odot ds+\\sinh^2(s) d\\theta\\odot d\\theta+\\sinh^2(s)\\sin^2(\\theta)d\\psi\\odot d\\psi+\\sinh^2(s)\\sin^2(\\theta)\\sin^2(\\psi)d\\phi\\odot d\\phi$$\n",
    "\n",
    "$$\\Rightarrow\\quad\\left(g_{\\mu\\nu}\\right)=\\begin{bmatrix}\n",
    "    1&0&0&0\\\\\n",
    "    0&\\sinh^2(s)&0&0\\\\\n",
    "    0&0&\\sinh^2(s)\\sin^2(\\theta)&0\\\\\n",
    "    0&0&0&\\sinh^2(s)\\sin^2(\\theta)\\sin^2(\\psi)\n",
    "\\end{bmatrix},\\quad\\mu,\\nu\\in\\{s, \\theta, \\psi, \\phi\\}$$\n"
   ]
  },
  {
   "cell_type": "code",
   "execution_count": 4,
   "id": "8d430219-814e-4ae0-bb3f-bc525d19cfd0",
   "metadata": {},
   "outputs": [
    {
     "name": "stdout",
     "output_type": "stream",
     "text": [
      "4D Ricci Tensor\n",
      "⎡-3       0                0                        0             ⎤\n",
      "⎢                                                                 ⎥\n",
      "⎢           2                                                     ⎥\n",
      "⎢0   -3⋅sinh (s)           0                        0             ⎥\n",
      "⎢                                                                 ⎥\n",
      "⎢                       2        2                                ⎥\n",
      "⎢0        0       -3⋅sin (θ)⋅sinh (s)               0             ⎥\n",
      "⎢                                                                 ⎥\n",
      "⎢                                            2       2        2   ⎥\n",
      "⎣0        0                0           -3⋅sin (θ)⋅sin (ϕ)⋅sinh (s)⎦\n",
      "\n",
      "4D Scalar Curvature: -12\n",
      "\n",
      "Sectional Curvatures:\n",
      "\n",
      "Sectional curvature in the plane (∂s,∂θ): K_sθ = -1\n",
      "Sectional curvature in the plane (∂s,∂ϕ): K_sϕ = -1\n",
      "Sectional curvature in the plane (∂s,∂ψ): K_sψ = -1\n",
      "Sectional curvature in the plane (∂θ,∂ϕ): K_θϕ = -1\n",
      "Sectional curvature in the plane (∂θ,∂ψ): K_θψ = -1\n",
      "Sectional curvature in the plane (∂ϕ,∂ψ): K_ϕψ = -1\n"
     ]
    }
   ],
   "source": [
    "# Poincaré half hyperspace\n",
    "\n",
    "s, theta, phi, psi = symbols('s θ ϕ ψ')\n",
    "g_4d_hyp = Matrix([\n",
    "    [1, 0, 0, 0],\n",
    "    [0, sp.sinh(s)**2, 0, 0],\n",
    "    [0, 0, sp.sinh(s)**2 * sp.sin(theta)**2, 0],\n",
    "    [0, 0, 0, sp.sinh(s)**2 * sp.sin(theta)**2 * sp.sin(phi)**2]\n",
    "])\n",
    "H4 = Manifold(g_4d_hyp, [s, theta, phi, psi])\n",
    "\n",
    "H4.get_geometrics()\n",
    "\n",
    "print(\"4D Ricci Tensor\")\n",
    "sp.pprint(H4.ricci_tensor)\n",
    "print(\"\\n4D Scalar Curvature:\", H4.scalar_curvature)\n",
    "print(\"\\nSectional Curvatures:\\n\")\n",
    "H4.print_sectional_curvatures()"
   ]
  },
  {
   "cell_type": "markdown",
   "id": "39bea705-c0f0-4840-a01c-2c40b8a0841d",
   "metadata": {},
   "source": [
    "### Remark\n",
    "\n",
    "It has to be noticed that any hyperbolic space $(\\mathbb{H}^n,g)$ satisfies $\\mathbf{Ric}_g=\\lambda g$, for so-called Einstein constant $\\lambda\\in\\mathbb{R}$. Moreover, such a constant is completely characterized by $\\lambda=\\frac{\\mathbf{R}_g}{n}$"
   ]
  },
  {
   "cell_type": "code",
   "execution_count": 5,
   "id": "c878c75f-a6aa-4cbb-9dbc-1237c3b80775",
   "metadata": {},
   "outputs": [
    {
     "name": "stdout",
     "output_type": "stream",
     "text": [
      "Is H2 an Einstein manifold? True\n",
      "Is H3 an Einstein manifold? True\n",
      "Is H4 an Einstein manifold? True\n"
     ]
    }
   ],
   "source": [
    "mfds = [H2, H3, H4]\n",
    "metrics = [g_hyperbolic, g_3d_hyp, g_4d_hyp]\n",
    "\n",
    "count=0\n",
    "dim = 2\n",
    "for mfd in mfds:\n",
    "    print(f'Is H{dim} an Einstein manifold?', mfd.ricci_tensor==mfd.scalar_curvature/dim*metrics[count]) #verifica che Ric=(R/n)g\n",
    "    dim += 1\n",
    "    count += 1"
   ]
  },
  {
   "cell_type": "code",
   "execution_count": null,
   "id": "bb1c4ea0-6b18-489e-badd-7ca0407f0f7b",
   "metadata": {},
   "outputs": [],
   "source": []
  },
  {
   "cell_type": "markdown",
   "id": "a9c73f85-7a0c-4e2a-b9c8-89a8d2a07748",
   "metadata": {},
   "source": [
    "## **Construction of the Hyperbolic spacetime**\n",
    "\n",
    "By the theory, a physical homogeneous and isotropic universe is modeled by a $4$-dimensional globally hyperbolic spacetime of the form \n",
    "$$(M^{1,3},\\overline{g})\\cong(\\mathbb{R}\\times\\Sigma^3, \\overline{g})$$\n",
    "where $\\Sigma\\in\\{\\mathbb{R}^3, \\mathbb{S}^3, \\mathbb{H}^3\\}$ and - being $s,\\theta,\\phi$ coordinates on $\\Sigma$\n",
    "$$\\overline{g}=-dt\\otimes dt+a^2(t)g_\\Sigma$$\n",
    "for some scale-factor function $a\\in C^\\infty(\\mathbb{R})$. For the hyperbolic case, we have that a metric for a hyperbolic spacetime is of the form\n",
    "\n",
    "$$(\\overline{g}_{ab})=\\begin{bmatrix}\n",
    "    -1&0&0&0\\\\\n",
    "    0&a^2(t)&0&0\\\\\n",
    "    0&0&a^2(t)\\sinh^2(s)&0\\\\\n",
    "    0&0&0&a^2(t)\\sinh^2(s)\\sin(\\theta)\n",
    "\\end{bmatrix}$$"
   ]
  },
  {
   "cell_type": "code",
   "execution_count": 6,
   "id": "791f7797-f6f0-46a5-ae86-a0e13fdc11b3",
   "metadata": {},
   "outputs": [
    {
     "name": "stdout",
     "output_type": "stream",
     "text": [
      "Hyperbolic spacetime metric\n",
      "⎡-1     0              0                      0            ⎤\n",
      "⎢                                                          ⎥\n",
      "⎢        2                                                 ⎥\n",
      "⎢0   sinh (t)          0                      0            ⎥\n",
      "⎢                                                          ⎥\n",
      "⎢                  2        2                              ⎥\n",
      "⎢0      0      sinh (s)⋅sinh (t)              0            ⎥\n",
      "⎢                                                          ⎥\n",
      "⎢                                    2        2        2   ⎥\n",
      "⎣0      0              0          sin (θ)⋅sinh (s)⋅sinh (t)⎦\n",
      "\n",
      "Spacetime hyp Ricci Tensor\n",
      "⎡-3      0                0                        0             ⎤\n",
      "⎢                                                                ⎥\n",
      "⎢          2                                                     ⎥\n",
      "⎢0   3⋅sinh (t)           0                        0             ⎥\n",
      "⎢                                                                ⎥\n",
      "⎢                      2        2                                ⎥\n",
      "⎢0       0       3⋅sinh (s)⋅sinh (t)               0             ⎥\n",
      "⎢                                                                ⎥\n",
      "⎢                                          2        2        2   ⎥\n",
      "⎣0       0                0           3⋅sin (θ)⋅sinh (s)⋅sinh (t)⎦\n",
      "\n",
      "Spacetime hyp Scalar Curvature: 12\n",
      "\n",
      "Hyperbolic spacetime sectional curvatures:\n",
      "\n",
      "Sectional curvature in the plane (∂t,∂s): K_ts = 1\n",
      "Sectional curvature in the plane (∂t,∂θ): K_tθ = 1\n",
      "Sectional curvature in the plane (∂t,∂ϕ): K_tϕ = 1\n",
      "Sectional curvature in the plane (∂s,∂θ): K_sθ = 1\n",
      "Sectional curvature in the plane (∂s,∂ϕ): K_sϕ = 1\n",
      "Sectional curvature in the plane (∂θ,∂ϕ): K_θϕ = 1\n",
      "\n",
      "Spacetime hyp Einstein Tensor\n",
      "⎡3.0        0                  0                           0               ⎤\n",
      "⎢                                                                          ⎥\n",
      "⎢              2                                                           ⎥\n",
      "⎢ 0   -3.0⋅sinh (t)            0                           0               ⎥\n",
      "⎢                                                                          ⎥\n",
      "⎢                             2        2                                   ⎥\n",
      "⎢ 0         0        -3.0⋅sinh (s)⋅sinh (t)                0               ⎥\n",
      "⎢                                                                          ⎥\n",
      "⎢                                                    2        2        2   ⎥\n",
      "⎣ 0         0                  0             -3.0⋅sin (θ)⋅sinh (s)⋅sinh (t)⎦\n"
     ]
    }
   ],
   "source": [
    "t = symbols('t')\n",
    "a = sp.sinh(t)\n",
    "\n",
    "g_hyp_spacetime = H3.create_spacetime_metric(a)\n",
    "\n",
    "print('Hyperbolic spacetime metric')\n",
    "sp.pprint(g_hyp_spacetime)\n",
    "\n",
    "H3_spacetime = Manifold(g_hyp_spacetime, [t, s, theta, phi])\n",
    "\n",
    "H3_spacetime.get_geometrics()\n",
    "\n",
    "print(\"\\nSpacetime hyp Ricci Tensor\")\n",
    "sp.pprint(H3_spacetime.ricci_tensor)\n",
    "print(\"\\nSpacetime hyp Scalar Curvature:\", H3_spacetime.scalar_curvature)\n",
    "\n",
    "print('\\nHyperbolic spacetime sectional curvatures:\\n')\n",
    "H3_spacetime.print_sectional_curvatures()\n",
    "\n",
    "print(\"\\nSpacetime hyp Einstein Tensor\")\n",
    "sp.pprint(H3_spacetime.einstein_tensor)"
   ]
  },
  {
   "cell_type": "markdown",
   "id": "88728500-57d4-40c7-bf76-c58344950b10",
   "metadata": {},
   "source": [
    "We notice that also the hyperbolic spacetime $(M^{1,3},g)\\cong(\\mathbb{R}\\times\\mathbb{H}^3,g)$ is an Einstein manifold for a scale function of the form $a(t)=\\sinh(t)$, having $\\mathbf{Ric}_g=\\lambda\\,g$, being $\\lambda=\\frac{\\mathbf{R}_g}{1+3}=\\frac{12}{4}=3$."
   ]
  },
  {
   "cell_type": "code",
   "execution_count": 7,
   "id": "cea5e939-5c24-4e6a-93f0-8623446a6251",
   "metadata": {},
   "outputs": [
    {
     "name": "stdout",
     "output_type": "stream",
     "text": [
      "True\n"
     ]
    }
   ],
   "source": [
    "#print(H3_spacetime.ricci_tensor==3*g_hyp_spacetime)\n",
    "print(H3_spacetime.is_einstein_mfd())"
   ]
  },
  {
   "cell_type": "markdown",
   "id": "175e51e7-be76-44a1-b80d-88d7b3e20687",
   "metadata": {},
   "source": [
    "Hence, it should satisfies Einstein equation for $\\Lambda=\\lambda$\n",
    "$$\\mathbf{Ric}_g-\\frac{1}{2}\\mathbf{R}_g\\,g+\\Lambda\\,g=0$$"
   ]
  },
  {
   "cell_type": "code",
   "execution_count": 8,
   "id": "721079c4-1543-4133-bf13-be049db9a701",
   "metadata": {},
   "outputs": [
    {
     "name": "stdout",
     "output_type": "stream",
     "text": [
      "Is the Hyperbolic spacetime an admissible spacetime? True\n"
     ]
    }
   ],
   "source": [
    "#einst_const = 3\n",
    "\n",
    "einst_const = H3_spacetime.einstein_constant()\n",
    "print('Is the Hyperbolic spacetime an admissible spacetime?', H3_spacetime.vacuum_einstein_eqs(Lambda=einst_const))"
   ]
  },
  {
   "cell_type": "markdown",
   "id": "a4e7a341-2bfe-46fc-916c-12b0ed7fa7c4",
   "metadata": {},
   "source": [
    "# **Conclusions**\n",
    "This little notebook proved that the spacetime constructed as a globally hyperbolic manifold with spacelike hypersurfaces being hyperbolic Riemannian manifolds diffeomorphic to $\\mathbb{H}^3$ satisfies Einstein's field equations with an appropriate scale factor $a(t)=\\sinh(t)$. This confirms that the hyperbolic geometry, as well as the flat or the round one, represents a physically admissible universe, showcasing the consistency of such a construction within the framework of General Relativity."
   ]
  },
  {
   "cell_type": "code",
   "execution_count": null,
   "id": "c3ae9cdf-535b-4b97-a8fc-d26b28e35c08",
   "metadata": {},
   "outputs": [],
   "source": []
  },
  {
   "cell_type": "code",
   "execution_count": null,
   "id": "beaadccc-b73d-409e-964c-443772b3a466",
   "metadata": {},
   "outputs": [],
   "source": []
  },
  {
   "cell_type": "markdown",
   "id": "9e8eaeaa-a31a-4437-ae1c-c0f2dd6d2b1e",
   "metadata": {},
   "source": [
    "## *An extrinsic view on $\\mathbb{H}^3\\hookrightarrow\\mathbb{R}^{1,3}$*\n",
    "\n",
    "As just said, on a chart of coordinates $(x^\\mu)$, one can compute the induced metric $g$ on $M$ from an embedding $F:M^n\\hookrightarrow N^m$ through the pull-back of a metric tensor $\\gamma\\in TN\\odot TN$, as \n",
    "\n",
    "$$g=F^*\\gamma=({J_F}^{-1})^\\alpha_\\mu\\,\\gamma_{\\alpha\\beta}(J_F)^\\beta_\\nu\\,dx^\\mu\\odot dx^\\nu$$\n",
    "\n",
    "For the hyperbolic space one has $F:\\mathbb{H}^3\\hookrightarrow\\mathbb{R}^{1,3}$, defined by\n",
    "$$F(s,\\theta,\\phi)=\\begin{bmatrix}\n",
    "    -\\cosh(s)\\\\\n",
    "    \\sinh(s)\\cos(\\theta)\\\\\n",
    "    \\sinh(s)\\sin(\\theta)\\cos(\\phi)\\\\\n",
    "    \\sinh(s)\\sin(\\theta)\\sin(\\phi)\n",
    "\\end{bmatrix}$$\n",
    "where the normal vector field is given as $(s,\\theta,\\phi)\\mapsto\\begin{bmatrix}-\\cosh(s)&\n",
    "    \\sinh(s)\\cos(\\theta)&\n",
    "    \\sinh(s)\\sin(\\theta)\\cos(\\phi)&\n",
    "    \\sinh(s)\\sin(\\theta)\\sin(\\phi)\\end{bmatrix}^T$"
   ]
  },
  {
   "cell_type": "code",
   "execution_count": 9,
   "id": "064486dc-046c-4a4c-bd49-b408bd2913fe",
   "metadata": {},
   "outputs": [],
   "source": [
    "from geo_diff import Submanifold\n",
    "from sympy import sin, cos, sinh, cosh, pprint"
   ]
  },
  {
   "cell_type": "code",
   "execution_count": 10,
   "id": "292d8aef-e7bf-4647-8394-103dad682352",
   "metadata": {},
   "outputs": [
    {
     "name": "stdout",
     "output_type": "stream",
     "text": [
      "\n",
      "H3 hyp metric from the embedding:\n",
      "⎡1     0             0        ⎤\n",
      "⎢                             ⎥\n",
      "⎢       2                     ⎥\n",
      "⎢0  sinh (s)         0        ⎥\n",
      "⎢                             ⎥\n",
      "⎢                2        2   ⎥\n",
      "⎣0     0      sin (θ)⋅sinh (s)⎦\n",
      "\n",
      "H3 normal vector field in R^(1,3):\n",
      "[-cosh(s)  cos(θ)⋅sinh(s)  sin(θ)⋅cos(ϕ)⋅sinh(s)  sin(θ)⋅sin(ϕ)⋅sinh(s)]\n"
     ]
    }
   ],
   "source": [
    "x, y, z, t, theta, phi, s = symbols('x, y, z, t, θ, ϕ, s')\n",
    "\n",
    "R13 = Manifold(Matrix([[-1,0,0,0],[0,1,0,0],[0,0,1,0],[0,0,0,1]]), [t, x, y, z])\n",
    "\n",
    "H3_embedding = [-cosh(s), sinh(s)*cos(theta), sinh(s)*sin(theta)*cos(phi), sinh(s)*sin(theta)*sin(phi)]\n",
    "\n",
    "H3 = Submanifold(R13, [s, theta, phi], H3_embedding)\n",
    "H3.get_geometrics_sub()\n",
    "\n",
    "print('\\nH3 hyp metric from the embedding:')\n",
    "pprint(H3.induced_metric)\n",
    "\n",
    "print('\\nH3 normal vector field in R^(1,3):')\n",
    "pprint(H3.normal_field)"
   ]
  },
  {
   "cell_type": "markdown",
   "id": "4b291c5f-699b-41c3-821c-209e54af0aac",
   "metadata": {},
   "source": [
    "### Christoffel symbols of $\\mathbb{H}^3$ and geodesics"
   ]
  },
  {
   "cell_type": "code",
   "execution_count": 11,
   "id": "094158db-18f6-463c-aba1-4803037ec103",
   "metadata": {},
   "outputs": [
    {
     "name": "stdout",
     "output_type": "stream",
     "text": [
      "\n",
      "H3 Christoffel symbols and geodesics:\n",
      "\n",
      "Γ^s:\n",
      "⎡0         0                     0            ⎤\n",
      "⎢                                             ⎥\n",
      "⎢0  -sinh(s)⋅cosh(s)             0            ⎥\n",
      "⎢                                             ⎥\n",
      "⎢                         2                   ⎥\n",
      "⎣0         0          -sin (θ)⋅sinh(s)⋅cosh(s)⎦\n",
      "\n",
      "Equazione geodetica lungo s:\n",
      "                                    2                             2    2           \n",
      "     2                    ⎛d       ⎞                    ⎛d       ⎞    d            \n",
      "- sin (θ)⋅sinh(s)⋅cosh(s)⋅⎜──(ϕ(τ))⎟  - sinh(s)⋅cosh(s)⋅⎜──(θ(τ))⎟  + ───(s(τ)) = 0\n",
      "                          ⎝dτ      ⎠                    ⎝dτ      ⎠      2          \n",
      "                                                                      dτ           \n",
      "\n",
      "In formato LaTeX:\n",
      "- \\sin^{2}{\\left(θ \\right)} \\sinh{\\left(s \\right)} \\cosh{\\left(s \\right)} \\left(\\frac{d}{d τ} ϕ{\\left(τ \\right)}\\right)^{2} - \\sinh{\\left(s \\right)} \\cosh{\\left(s \\right)} \\left(\\frac{d}{d τ} θ{\\left(τ \\right)}\\right)^{2} + \\frac{d^{2}}{d τ^{2}} s{\\left(τ \\right)} = 0\n",
      "\n",
      "Γ^θ:\n",
      "⎡         cosh(s)                ⎤\n",
      "⎢   0     ───────        0       ⎥\n",
      "⎢         sinh(s)                ⎥\n",
      "⎢                                ⎥\n",
      "⎢cosh(s)                         ⎥\n",
      "⎢───────     0           0       ⎥\n",
      "⎢sinh(s)                         ⎥\n",
      "⎢                                ⎥\n",
      "⎣   0        0     -sin(θ)⋅cos(θ)⎦\n",
      "\n",
      "Equazione geodetica lungo θ:\n",
      "                                                    d        d           \n",
      "                          2    2          2⋅cosh(s)⋅──(s(τ))⋅──(θ(τ))    \n",
      "                ⎛d       ⎞    d                     dτ       dτ          \n",
      "- sin(θ)⋅cos(θ)⋅⎜──(ϕ(τ))⎟  + ───(θ(τ)) + ─────────────────────────── = 0\n",
      "                ⎝dτ      ⎠      2                   sinh(s)              \n",
      "                              dτ                                         \n",
      "\n",
      "In formato LaTeX:\n",
      "- \\sin{\\left(θ \\right)} \\cos{\\left(θ \\right)} \\left(\\frac{d}{d τ} ϕ{\\left(τ \\right)}\\right)^{2} + \\frac{d^{2}}{d τ^{2}} θ{\\left(τ \\right)} + \\frac{2 \\cosh{\\left(s \\right)} \\frac{d}{d τ} s{\\left(τ \\right)} \\frac{d}{d τ} θ{\\left(τ \\right)}}{\\sinh{\\left(s \\right)}} = 0\n",
      "\n",
      "Γ^ϕ:\n",
      "⎡                 cosh(s)⎤\n",
      "⎢   0       0     ───────⎥\n",
      "⎢                 sinh(s)⎥\n",
      "⎢                        ⎥\n",
      "⎢                 cos(θ) ⎥\n",
      "⎢   0       0     ────── ⎥\n",
      "⎢                 sin(θ) ⎥\n",
      "⎢                        ⎥\n",
      "⎢cosh(s)  cos(θ)         ⎥\n",
      "⎢───────  ──────     0   ⎥\n",
      "⎣sinh(s)  sin(θ)         ⎦\n",
      "\n",
      "Equazione geodetica lungo ϕ:\n",
      "                      d        d                   d        d           \n",
      " 2          2⋅cosh(s)⋅──(s(τ))⋅──(ϕ(τ))   2⋅cos(θ)⋅──(θ(τ))⋅──(ϕ(τ))    \n",
      "d                     dτ       dτ                  dτ       dτ          \n",
      "───(ϕ(τ)) + ─────────────────────────── + ────────────────────────── = 0\n",
      "  2                   sinh(s)                       sin(θ)              \n",
      "dτ                                                                      \n",
      "\n",
      "In formato LaTeX:\n",
      "\\frac{d^{2}}{d τ^{2}} ϕ{\\left(τ \\right)} + \\frac{2 \\cosh{\\left(s \\right)} \\frac{d}{d τ} s{\\left(τ \\right)} \\frac{d}{d τ} ϕ{\\left(τ \\right)}}{\\sinh{\\left(s \\right)}} + \\frac{2 \\cos{\\left(θ \\right)} \\frac{d}{d τ} θ{\\left(τ \\right)} \\frac{d}{d τ} ϕ{\\left(τ \\right)}}{\\sin{\\left(θ \\right)}} = 0\n"
     ]
    }
   ],
   "source": [
    "Gamma = H3.christoffel_symbols\n",
    "geodesics = H3.geodesics\n",
    "\n",
    "eqs_list = []\n",
    "print('\\nH3 Christoffel symbols and geodesics:')\n",
    "for i, coord in enumerate(H3.coords):\n",
    "    print(f'\\nΓ^{coord}:')\n",
    "    pprint(Gamma[i]) \n",
    "    \n",
    "    eqs_list.append(geodesics[i])\n",
    "    print(f\"\\nEquazione geodetica lungo {coord}:\") # equivalente a {H3.coords[i]}\n",
    "    pprint(eqs_list[i])  # Stampa leggibile in console\n",
    "    print(\"\\nIn formato LaTeX:\")\n",
    "    print(f'{latex(eqs_list[i])}')  # Output LaTeX-friendly\n",
    "\n",
    "\n"
   ]
  },
  {
   "cell_type": "markdown",
   "id": "6e1dfa69-6c97-4b31-93df-12f79d311a04",
   "metadata": {},
   "source": [
    "#### *On $\\mathbb{H}^3$ geodesics*\n",
    "\n",
    "They are curves $\\varsigma$ on $\\mathbb{H}^3$, hence of the form $\\tau\\mapsto(s(\\tau),\\theta(\\tau),\\phi(\\tau))$, that minimize the length functional\n",
    "\n",
    "$$\\mathbf{L}[\\varsigma]=\\int_{\\mathcal{I}\\subseteq\\mathbb{R}}\\sqrt{g_{\\mu\\nu}\\,\\frac{d\\varsigma^\\mu}{d\\tau}\\frac{d\\varsigma^\\nu}{d\\tau}}\\,d\\tau$$\n",
    "\n",
    "Let's display the result of the above cell in a $\\LaTeX$ view, being the geodesic equations of $\\mathbb{H}^3$:\n",
    "\n",
    "\\begin{cases}\n",
    "    - \\sin^{2}{\\left(θ \\right)} \\sinh{\\left(s \\right)} \\cosh{\\left(s \\right)} \\left(\\frac{d}{d τ} ϕ{\\left(τ \\right)}\\right)^{2} - \\sinh{\\left(s \\right)} \\cosh{\\left(s \\right)} \\left(\\frac{d}{d τ} θ{\\left(τ \\right)}\\right)^{2} + \\frac{d^{2}}{d τ^{2}} s{\\left(τ \\right)} = 0\\\\\n",
    "    - \\sin{\\left(θ \\right)} \\cos{\\left(θ \\right)} \\left(\\frac{d}{d τ} ϕ{\\left(τ \\right)}\\right)^{2} + \\frac{d^{2}}{d τ^{2}} θ{\\left(τ \\right)} + \\frac{2 \\cosh{\\left(s \\right)} \\frac{d}{d τ} s{\\left(τ \\right)} \\frac{d}{d τ} θ{\\left(τ \\right)}}{\\sinh{\\left(s \\right)}} = 0\\\\\n",
    "    \\frac{d^{2}}{d τ^{2}} ϕ{\\left(τ \\right)} + \\frac{2 \\cosh{\\left(s \\right)} \\frac{d}{d τ} s{\\left(τ \\right)} \\frac{d}{d τ} ϕ{\\left(τ \\right)}}{\\sinh{\\left(s \\right)}} + \\frac{2 \\cos{\\left(θ \\right)} \\frac{d}{d τ} θ{\\left(τ \\right)} \\frac{d}{d τ} ϕ{\\left(τ \\right)}}{\\sin{\\left(θ \\right)}} = 0\n",
    "\\end{cases}\n",
    "\n",
    "Notice that, since one parametrizes geodesics per arclength, the condition $g_{\\mu\\nu}\\dot{\\varsigma}^\\mu\\dot{\\varsigma}^\\nu=1$ reads here as $$\\dot{s}^2+\\sinh^2(s)\\,\\dot{\\theta}+\\sin^2(\\theta)\\sinh^2(s)\\,\\dot{\\phi}=1$$\n",
    "\n",
    "We may discuss their resolution in another place and come back to something extrinsic. In fact, it is important to highlight that, despite we are in the section where we are discussing some extrinsic property of the hyperbolic space, the geodesics equations are instrinsic, they only depend on the metric."
   ]
  },
  {
   "cell_type": "code",
   "execution_count": 12,
   "id": "c534f3ac-e5a1-4b2c-9b07-24d27c884eb6",
   "metadata": {},
   "outputs": [
    {
     "name": "stdout",
     "output_type": "stream",
     "text": [
      "\n",
      "H3 second fundamental form in R^(1,3):\n",
      "⎡-1      0              0        ⎤\n",
      "⎢                                ⎥\n",
      "⎢         2                      ⎥\n",
      "⎢0   -sinh (s)          0        ⎥\n",
      "⎢                                ⎥\n",
      "⎢                   2        2   ⎥\n",
      "⎣0       0      -sin (θ)⋅sinh (s)⎦\n",
      "\n",
      "H3 mean curvature in R^(1,3), H =  -3\n",
      "\n",
      "Is H3 minimal in this ambient?  False\n"
     ]
    }
   ],
   "source": [
    "print('\\nH3 second fundamental form in R^(1,3):')\n",
    "pprint(H3.second_fundamental_form)\n",
    "\n",
    "print('\\nH3 mean curvature in R^(1,3), H = ', H3.mean_curvature)\n",
    "print('\\nIs H3 minimal in this ambient? ', H3.is_minimal())"
   ]
  },
  {
   "cell_type": "code",
   "execution_count": null,
   "id": "91f83520-aec0-4aef-b683-d880877786e4",
   "metadata": {},
   "outputs": [],
   "source": []
  },
  {
   "cell_type": "markdown",
   "id": "4fc0fa78-245f-48ac-9ed1-1cd17a14da14",
   "metadata": {},
   "source": [
    "### *On $\\mathbb{H}^2$ as minimal surface of $\\mathbb{H}^3$*\n",
    "\n",
    "$\\mathbb{H}^2$ can be easily embedded in $\\mathbb{H}^3$ through \n",
    "$$(s,\\theta)\\mapsto\\left(-\\cosh(s),\\,\n",
    "    \\sinh(s)\\cos(\\theta),\\,\n",
    "    \\sinh(s)\\sin(\\theta),\\,\n",
    "    0\\right)$$\n",
    "where the normal field is of the form $\\mathbf{n}(s,\\theta)=(0,0,0,1)$."
   ]
  },
  {
   "cell_type": "code",
   "execution_count": 13,
   "id": "366d929b-6ef9-4ff2-ab66-1b11f9a8bd8d",
   "metadata": {},
   "outputs": [
    {
     "name": "stdout",
     "output_type": "stream",
     "text": [
      "\n",
      "H2 normal vector field in H3\n",
      "⎡    _________             _________                    _________                   ⎤\n",
      "⎢   ╱   2                 ╱   2                        ╱   2                        ⎥\n",
      "⎣-╲╱  n₄  - 1 ⋅cosh(s)  ╲╱  n₄  - 1 ⋅cos(θ)⋅sinh(s)  ╲╱  n₄  - 1 ⋅sin(θ)⋅sinh(s)  n₄⎦\n",
      "\n",
      "H2 induced metric from H3\n",
      "⎡1     0    ⎤\n",
      "⎢           ⎥\n",
      "⎢       2   ⎥\n",
      "⎣0  sinh (s)⎦\n",
      "\n",
      "H2 second fundamental form in H3:\n",
      "⎡    _________                        ⎤\n",
      "⎢   ╱   2                             ⎥\n",
      "⎢-╲╱  n₄  - 1             0           ⎥\n",
      "⎢                                     ⎥\n",
      "⎢                   _________         ⎥\n",
      "⎢                  ╱   2          2   ⎥\n",
      "⎣      0        -╲╱  n₄  - 1 ⋅sinh (s)⎦\n",
      "\n",
      "H2 mean curvature in H3, H =  -2*sqrt(n4**2 - 1)\n",
      "Is H2 minimal in H3?  False\n"
     ]
    }
   ],
   "source": [
    "embedding_H2_in_H3 = [-cosh(s), sinh(s)*cos(theta), sinh(s)*sin(theta), 0]\n",
    "H2_in_H3 = Submanifold(R13, [s, theta], embedding_H2_in_H3)\n",
    "H2_in_H3.get_geometrics_sub()\n",
    "\n",
    "print('\\nH2 normal vector field in H3')\n",
    "pprint(H2_in_H3.normal_field)\n",
    "\n",
    "print('\\nH2 induced metric from H3')\n",
    "pprint(H2_in_H3.metric)\n",
    "\n",
    "print('\\nH2 second fundamental form in H3:')\n",
    "pprint(H2_in_H3.second_fundamental_form)\n",
    "print('\\nH2 mean curvature in H3, H = ', H2_in_H3.mean_curvature)\n",
    "print('Is H2 minimal in H3? ', H2_in_H3.is_minimal())"
   ]
  },
  {
   "cell_type": "code",
   "execution_count": 14,
   "id": "45853340-2063-4d39-bff5-73304613b91d",
   "metadata": {},
   "outputs": [
    {
     "name": "stdout",
     "output_type": "stream",
     "text": [
      "\n",
      "Is the metric independent from the embedding? True\n",
      "\n",
      "H2 second fundamental form in R^(1,2):\n",
      "⎡-1      0    ⎤\n",
      "⎢             ⎥\n",
      "⎢         2   ⎥\n",
      "⎣0   -sinh (s)⎦\n",
      "\n",
      "H2 mean curvature in R^(1,2), H =  -2\n",
      "Is H2 minimal in R^(1,2)?  False\n"
     ]
    }
   ],
   "source": [
    "embedding_H2_eucl = embedding_H2_in_H3[:-1]\n",
    "R12 = Manifold(sp.Matrix.diag(-1,1,1), [t, x, y])\n",
    "H2_eucl = Submanifold(R12, [s, theta], embedding_H2_eucl)\n",
    "H2_eucl.get_geometrics_sub()\n",
    "\n",
    "print('\\nIs the metric independent from the embedding?', H2_eucl.induced_metric == H2_in_H3.induced_metric)\n",
    "\n",
    "print('\\nH2 second fundamental form in R^(1,2):')\n",
    "pprint(H2_eucl.second_fundamental_form)\n",
    "\n",
    "print('\\nH2 mean curvature in R^(1,2), H = ', H2_eucl.mean_curvature)\n",
    "print('Is H2 minimal in R^(1,2)? ', H2_eucl.is_minimal())"
   ]
  },
  {
   "cell_type": "code",
   "execution_count": null,
   "id": "16b0d315-1634-492f-8dba-0fc37e6fc67e",
   "metadata": {},
   "outputs": [],
   "source": []
  },
  {
   "cell_type": "code",
   "execution_count": null,
   "id": "1aa051b1-a047-4b39-bb9d-1b670c9c3019",
   "metadata": {},
   "outputs": [],
   "source": []
  },
  {
   "cell_type": "markdown",
   "id": "7ae1af12-3a68-4fb3-84d5-f53d201dbe18",
   "metadata": {},
   "source": [
    "# Appendix\n",
    "### **On the *flat* and the *round* spacetimes**"
   ]
  },
  {
   "cell_type": "code",
   "execution_count": 15,
   "id": "9cc2e3f7-a720-443c-b169-5bc99b3ab82c",
   "metadata": {},
   "outputs": [
    {
     "name": "stdout",
     "output_type": "stream",
     "text": [
      "Flat spacetime metric\n",
      "⎡-1  0  0       0     ⎤\n",
      "⎢                     ⎥\n",
      "⎢0   1  0       0     ⎥\n",
      "⎢                     ⎥\n",
      "⎢        2            ⎥\n",
      "⎢0   0  s       0     ⎥\n",
      "⎢                     ⎥\n",
      "⎢            2    2   ⎥\n",
      "⎣0   0  0   s ⋅sin (θ)⎦\n",
      "\n",
      "Is it Einstein manifold? True\n",
      "\n",
      "Does it solve Einstein equation? True\n"
     ]
    }
   ],
   "source": [
    "# Appendici\n",
    "# About the flat and the round metric\n",
    "s, theta, phi = symbols('s θ ϕ')\n",
    "g_R3 = sp.Matrix([\n",
    "    [1,0,0],[0,s**2,0],[0,0,s**2*sp.sin(theta)**2]\n",
    "])\n",
    "\n",
    "R3 = Manifold(g_R3, [s, theta, phi])\n",
    "\n",
    "a = 1\n",
    "g_flat_spacetime = R3.create_spacetime_metric(a)\n",
    "print('Flat spacetime metric')\n",
    "pprint(g_flat_spacetime)\n",
    "\n",
    "flat_spacetime = Manifold(g_flat_spacetime, [t, s, theta, phi])\n",
    "print('\\nIs it Einstein manifold?', flat_spacetime.is_einstein_mfd())\n",
    "\n",
    "l = flat_spacetime.einstein_constant()\n",
    "\n",
    "print('\\nDoes it solve Einstein equation?', flat_spacetime.vacuum_einstein_eqs(Lambda=l))"
   ]
  },
  {
   "cell_type": "code",
   "execution_count": 16,
   "id": "ea8e16eb-b38b-4678-9569-8cb4e6e6c9ee",
   "metadata": {},
   "outputs": [
    {
     "name": "stdout",
     "output_type": "stream",
     "text": [
      "Round Ricci Tensor\n",
      "⎡2      0              0        ⎤\n",
      "⎢                               ⎥\n",
      "⎢        2                      ⎥\n",
      "⎢0  2⋅sin (θ)          0        ⎥\n",
      "⎢                               ⎥\n",
      "⎢                   2       2   ⎥\n",
      "⎣0      0      2⋅sin (θ)⋅sin (ϕ)⎦\n",
      "\n",
      "Sectional curvatures of S3:\n",
      "\n",
      "Sectional curvature in the plane (∂θ,∂ϕ): K_θϕ = 1\n",
      "Sectional curvature in the plane (∂θ,∂ψ): K_θψ = 1\n",
      "Sectional curvature in the plane (∂ϕ,∂ψ): K_ϕψ = 1\n",
      "\n",
      "Round Scalar Curvature: 6\n",
      "\n",
      "Einstein constant for the round metric: 2\n",
      "\n",
      "Is it Einstein manifold? True\n"
     ]
    }
   ],
   "source": [
    "#s, theta, phi = symbols('s, theta, phi')\n",
    "g_S3 = sp.Matrix([\n",
    "    [1,0,0],[0,sp.sin(theta)**2,0],[0,0,sp.sin(theta)**2*sp.sin(phi)**2]\n",
    "])\n",
    "\n",
    "S3 = Manifold(g_S3, [theta, phi, psi])\n",
    "\n",
    "S3.get_geometrics()\n",
    "\n",
    "print(\"Round Ricci Tensor\")\n",
    "pprint(S3.ricci_tensor)\n",
    "\n",
    "print('\\nSectional curvatures of S3:\\n')\n",
    "S3.print_sectional_curvatures()\n",
    "\n",
    "print(\"\\nRound Scalar Curvature:\", S3.scalar_curvature)\n",
    "print(\"\\nEinstein constant for the round metric:\", S3.einstein_constant())\n",
    "print('\\nIs it Einstein manifold?', S3.is_einstein_mfd())"
   ]
  },
  {
   "cell_type": "code",
   "execution_count": 17,
   "id": "7e282771-7579-4d4f-99be-e834bf8fb51d",
   "metadata": {},
   "outputs": [
    {
     "name": "stdout",
     "output_type": "stream",
     "text": [
      "Round spacetime metric\n",
      "⎡-1     0             0                     0            ⎤\n",
      "⎢                                                        ⎥\n",
      "⎢        2                                               ⎥\n",
      "⎢0   cosh (t)         0                     0            ⎥\n",
      "⎢                                                        ⎥\n",
      "⎢                 2        2                             ⎥\n",
      "⎢0      0      sin (θ)⋅cosh (t)             0            ⎥\n",
      "⎢                                                        ⎥\n",
      "⎢                                   2       2        2   ⎥\n",
      "⎣0      0             0          sin (θ)⋅sin (ϕ)⋅cosh (t)⎦\n",
      "\n",
      "Spacetime round Ricci Tensor\n",
      "⎡-3      0               0                       0             ⎤\n",
      "⎢                                                              ⎥\n",
      "⎢          2                                                   ⎥\n",
      "⎢0   3⋅cosh (t)          0                       0             ⎥\n",
      "⎢                                                              ⎥\n",
      "⎢                     2        2                               ⎥\n",
      "⎢0       0       3⋅sin (θ)⋅cosh (t)              0             ⎥\n",
      "⎢                                                              ⎥\n",
      "⎢                                         2       2        2   ⎥\n",
      "⎣0       0               0           3⋅sin (θ)⋅sin (ϕ)⋅cosh (t)⎦\n",
      "\n",
      "Spacetime round Scalar Curvature: 12\n",
      "\n",
      "Spherical spacetime sectional curvatures:\n",
      "\n",
      "Sectional curvature in the plane (∂t,∂θ): K_tθ = 1\n",
      "Sectional curvature in the plane (∂t,∂ϕ): K_tϕ = 1\n",
      "Sectional curvature in the plane (∂t,∂ψ): K_tψ = 1\n",
      "Sectional curvature in the plane (∂θ,∂ϕ): K_θϕ = 1\n",
      "Sectional curvature in the plane (∂θ,∂ψ): K_θψ = 1\n",
      "Sectional curvature in the plane (∂ϕ,∂ψ): K_ϕψ = 1\n",
      "\n",
      "Spacetime round Einstein Tensor\n",
      "⎡3.0        0                  0                          0              ⎤\n",
      "⎢                                                                        ⎥\n",
      "⎢              2                                                         ⎥\n",
      "⎢ 0   -3.0⋅cosh (t)            0                          0              ⎥\n",
      "⎢                                                                        ⎥\n",
      "⎢                            2        2                                  ⎥\n",
      "⎢ 0         0        -3.0⋅sin (θ)⋅cosh (t)                0              ⎥\n",
      "⎢                                                                        ⎥\n",
      "⎢                                                   2       2        2   ⎥\n",
      "⎣ 0         0                  0            -3.0⋅sin (θ)⋅sin (ϕ)⋅cosh (t)⎦\n",
      "\n",
      "Does it solve Einstein equations? True\n"
     ]
    }
   ],
   "source": [
    "a = sp.cosh(t)\n",
    "g_round_spacetime = S3.create_spacetime_metric(a)\n",
    "print('Round spacetime metric')\n",
    "pprint(g_round_spacetime)\n",
    "\n",
    "S3_spacetime = Manifold(g_round_spacetime, [t, theta, phi, psi])\n",
    "\n",
    "S3_spacetime.get_geometrics()\n",
    "\n",
    "print(\"\\nSpacetime round Ricci Tensor\")\n",
    "sp.pprint(S3_spacetime.ricci_tensor)\n",
    "print(\"\\nSpacetime round Scalar Curvature:\", S3_spacetime.scalar_curvature)\n",
    "\n",
    "print('\\nSpherical spacetime sectional curvatures:\\n')\n",
    "S3_spacetime.print_sectional_curvatures()\n",
    "\n",
    "print(\"\\nSpacetime round Einstein Tensor\")\n",
    "sp.pprint(S3_spacetime.einstein_tensor)\n",
    "\n",
    "l = S3_spacetime.einstein_constant()\n",
    "print('\\nDoes it solve Einstein equations?', S3_spacetime.vacuum_einstein_eqs(Lambda=l))"
   ]
  },
  {
   "cell_type": "code",
   "execution_count": null,
   "id": "2a948c27-d685-422f-83d0-afee3e157509",
   "metadata": {},
   "outputs": [],
   "source": []
  },
  {
   "cell_type": "code",
   "execution_count": null,
   "id": "db003a9c-a8bd-4482-bdc4-fa4ae9f35727",
   "metadata": {},
   "outputs": [],
   "source": []
  },
  {
   "cell_type": "markdown",
   "id": "cc0088aa-0701-4532-a979-4f4b9032f11a",
   "metadata": {},
   "source": [
    "### **Schwarzschild spacetime**\n",
    "\n",
    "#### The Schwarzschild metric is a solution $(\\mathbb{R}\\times\\Sigma^3,\\gamma)$ of Einstein equations, where $\\Sigma\\cong\\mathbb{R}^3\\setminus B(2Gm)$, with $m>0$ representing the total mass. This metric is expressed in the form\n",
    "$$\\gamma=-u^2(x)\\,dt\\otimes dt + g_\\Sigma$$\n",
    "#### being $g_\\Sigma=g^\\Sigma_{ab} dx^a\\otimes dx^b$ the Schwarzschild spacelike metric and $u:\\Sigma\\to\\mathbb{R}_+\\cup\\{0\\}$ a lapse function, defined as $u(x)=\\sqrt{1-\\frac{2Gm}{||x||}}$, which reads in polar coordinates $(r,\\theta^1,\\theta^2)$ as\n",
    "$$g_\\Sigma=\\frac{dr\\otimes dr}{1-\\frac{2Gm}{r}}+r^2g^{\\mathbb{S}^2}_{ij}d\\theta^i\\otimes d\\theta^j$$\n",
    "\n",
    "#### Notice that, the boundary $\\partial\\Sigma\\textcolor{gray}{=\\{u\\equiv0\\}=\\{r\\equiv2Gm\\}\\cong\\mathbb{S}^2}$ is a totally geodesic surface (its $II$nd fundamental form vanishes) and is therefore a minimal surface."
   ]
  },
  {
   "cell_type": "markdown",
   "id": "d9a7140f-9b9e-486f-ac48-f138c9e06a9c",
   "metadata": {},
   "source": [
    "### *Remark*\n",
    "#### The Schwarzschild spacetime generalizes to an arbitrary dimension $n+1$, the spacelike Schwarzschild being defined as $(\\Sigma^n,g)$:\n",
    "$$\n",
    "\\begin{cases}\n",
    "    \\Sigma^n=\\mathbb{R}^n\\setminus\\left\\{r<(2Gm)^{\\frac{1}{n-2}}\\right\\}, & m>0\\\\\n",
    "    g=\\frac{dr\\otimes dr}{u^2(r)}+r^2g_{\\mathbb{S}^{n-1}}, & u^2(r)=1-2Gmr^{2-n}\n",
    "\\end{cases}\n",
    "$$"
   ]
  },
  {
   "cell_type": "markdown",
   "id": "c6746706-aba4-4c66-9be8-13cca3eaae98",
   "metadata": {},
   "source": [
    "#### **Briefs on the event horizon $\\partial\\Sigma^n$**"
   ]
  },
  {
   "cell_type": "code",
   "execution_count": 18,
   "id": "aff6843f-0aea-40f0-b223-0297383d7e51",
   "metadata": {},
   "outputs": [
    {
     "name": "stdout",
     "output_type": "stream",
     "text": [
      "Event horizon metric tensor:\n",
      "⎡ 2             ⎤\n",
      "⎢r        0     ⎥\n",
      "⎢               ⎥\n",
      "⎢     2    2    ⎥\n",
      "⎣0   r ⋅sin (θ₁)⎦\n",
      "\n",
      "Is it Einstein manifold? True\n",
      "Is it minimal in spacelike Schwarzschild? True\n",
      "Is it totally geodesic in spacelike Schwarzschild? False\n",
      "\n",
      "Is it Einstein manifold? True\n",
      "Is it minimal in the whole Schwarzschild spacetime? True\n",
      "Is it totally geodesic in the whole spacelike Schwarzschild spacetime? True\n"
     ]
    }
   ],
   "source": [
    "# G, m, c, r = symbols('G, m, c, r')\n",
    "# c = 1 \n",
    "# G = 1\n",
    "# schw_const = 2*G*m/(c**2*r)\n",
    "# gamma = Matrix([\n",
    "#    [-c**2*(1-schw_const),0,0,0],[0,(1-schw_const)**(-1),0,0],[0,0,r**2,0],[0,0,0,r**2*sp.sin(theta)**2]\n",
    "# ])\n",
    "# Schwarzschild = Manifold(gamma, [t, r, theta, phi])\n",
    "\n",
    "\n",
    "#NEW\n",
    "from geo_diff import Schwarzschild\n",
    "\n",
    "horizon_embedding = [2*sp.symbols('G')*sp.symbols('m')] + Schwarzschild(3).coords[1:]\n",
    "event_horizon = Submanifold(Schwarzschild(3), Schwarzschild(3).coords[1:], horizon_embedding)\n",
    "event_horizon.get_geometrics_sub()\n",
    "\n",
    "print('Event horizon metric tensor:')\n",
    "pprint(event_horizon.metric)\n",
    "\n",
    "print('\\nIs it Einstein manifold?', event_horizon.is_einstein_mfd())\n",
    "#print('Is it flat?', event_horizon.is_flat())\n",
    "print('Is it minimal in spacelike Schwarzschild?', event_horizon.is_minimal())\n",
    "print('Is it totally geodesic in spacelike Schwarzschild?', event_horizon.is_totally_geodesic())\n",
    "\n",
    "\n",
    "event_horizon2 = Submanifold(Schwarzschild(3).spacetime, Schwarzschild(3).spacetime_coords[2:], [0]+horizon_embedding)\n",
    "event_horizon2.get_geometrics_sub()\n",
    "print('\\nIs it Einstein manifold?', event_horizon2.is_einstein_mfd())\n",
    "#print('Is it flat?', event_horizon2.is_flat())\n",
    "print('Is it minimal in the whole Schwarzschild spacetime?', event_horizon2.is_minimal())\n",
    "print('Is it totally geodesic in the whole spacelike Schwarzschild spacetime?', event_horizon2.is_totally_geodesic())"
   ]
  },
  {
   "cell_type": "code",
   "execution_count": 19,
   "id": "30a4d1a3-0f0f-4926-9da9-d20f86862e3e",
   "metadata": {},
   "outputs": [
    {
     "name": "stdout",
     "output_type": "stream",
     "text": [
      "Schwarzschild spacetime metric tensor\n",
      "⎡2⋅G⋅m                                  ⎤\n",
      "⎢───── - 1       0       0        0     ⎥\n",
      "⎢  r                                    ⎥\n",
      "⎢                                       ⎥\n",
      "⎢                1                      ⎥\n",
      "⎢    0      ───────────  0        0     ⎥\n",
      "⎢             2⋅G⋅m                     ⎥\n",
      "⎢           - ───── + 1                 ⎥\n",
      "⎢               r                       ⎥\n",
      "⎢                                       ⎥\n",
      "⎢                         2             ⎥\n",
      "⎢    0           0       r        0     ⎥\n",
      "⎢                                       ⎥\n",
      "⎢                             2    2    ⎥\n",
      "⎣    0           0       0   r ⋅sin (θ₁)⎦\n",
      "\n",
      "Schwarzschild sectional curvatures:\n",
      "\n",
      "Sectional curvature in the plane (∂t,∂r): K_tr = 2*G*m/r**3\n",
      "Sectional curvature in the plane (∂t,∂θ1): K_tθ1 = -G*m/r**3\n",
      "Sectional curvature in the plane (∂t,∂θ2): K_tθ2 = -G*m/r**3\n",
      "Sectional curvature in the plane (∂r,∂θ1): K_rθ1 = -G*m/r**3\n",
      "Sectional curvature in the plane (∂r,∂θ2): K_rθ2 = -G*m/r**3\n",
      "Sectional curvature in the plane (∂θ1,∂θ2): K_θ1θ2 = 2*G*m/r**3\n",
      "\n",
      "Schwarzschild Ricci Tensor\n",
      "⎡0  0  0  0⎤\n",
      "⎢          ⎥\n",
      "⎢0  0  0  0⎥\n",
      "⎢          ⎥\n",
      "⎢0  0  0  0⎥\n",
      "⎢          ⎥\n",
      "⎣0  0  0  0⎦\n",
      "\n",
      "Schwarzschild Scalar Curvature: 0\n",
      "\n",
      "Does Schwarzschild solve Einstein Eqs? True\n",
      "\n",
      "But is the Schwarzschild spacetime really flat? False\n"
     ]
    }
   ],
   "source": [
    "Schwarzschild = Schwarzschild(3).spacetime\n",
    "gamma = Schwarzschild.metric\n",
    "\n",
    "print('Schwarzschild spacetime metric tensor')\n",
    "pprint(gamma)\n",
    "\n",
    "print('\\nSchwarzschild sectional curvatures:\\n')\n",
    "Schwarzschild.print_sectional_curvatures()\n",
    "\n",
    "print('\\nSchwarzschild Ricci Tensor')\n",
    "pprint(Schwarzschild.ricci_tensor)\n",
    "print('\\nSchwarzschild Scalar Curvature:', Schwarzschild.scalar_curvature)\n",
    "#print('\\nSchwarzschild Sectional Curvature:', Schwarzschild.sectional_curvature)\n",
    "print('\\nDoes Schwarzschild solve Einstein Eqs?', Schwarzschild.vacuum_einstein_eqs(Schwarzschild.einstein_constant()))\n",
    "\n",
    "print('\\nBut is the Schwarzschild spacetime really flat?', Schwarzschild.is_flat())"
   ]
  },
  {
   "cell_type": "markdown",
   "id": "d26aacb9-ced1-4c18-a85f-d9346cc8e3bd",
   "metadata": {},
   "source": [
    "#### In fact, we can say that a manifold $(M,g)$ is **flat** only when $\\mathbf{Riem}_g\\equiv0$, and this is not the case of the Schwarzschild solution, for which indeed it holds"
   ]
  },
  {
   "cell_type": "code",
   "execution_count": 20,
   "id": "6dd0e729-4b8c-4105-acdf-492b7214c948",
   "metadata": {
    "scrolled": true
   },
   "outputs": [
    {
     "name": "stdout",
     "output_type": "stream",
     "text": [
      "Schwarzschild Riemann components:\n",
      "\n",
      "R^t_tμν:\n",
      "⎡0  0  0  0⎤\n",
      "⎢          ⎥\n",
      "⎢0  0  0  0⎥\n",
      "⎢          ⎥\n",
      "⎢0  0  0  0⎥\n",
      "⎢          ⎥\n",
      "⎣0  0  0  0⎦\n",
      "\n",
      "R^t_rμν:\n",
      "⎡                     2⋅G⋅m           ⎤\n",
      "⎢      0         ───────────────  0  0⎥\n",
      "⎢                 2                   ⎥\n",
      "⎢                r ⋅(-2⋅G⋅m + r)      ⎥\n",
      "⎢                                     ⎥\n",
      "⎢    2⋅G⋅m                            ⎥\n",
      "⎢──────────────         0         0  0⎥\n",
      "⎢ 2                                   ⎥\n",
      "⎢r ⋅(2⋅G⋅m - r)                       ⎥\n",
      "⎢                                     ⎥\n",
      "⎢      0                0         0  0⎥\n",
      "⎢                                     ⎥\n",
      "⎣      0                0         0  0⎦\n",
      "\n",
      "R^t_θ1μν:\n",
      "⎡        -G⋅m    ⎤\n",
      "⎢ 0   0  ─────  0⎥\n",
      "⎢          r     ⎥\n",
      "⎢                ⎥\n",
      "⎢ 0   0    0    0⎥\n",
      "⎢                ⎥\n",
      "⎢G⋅m             ⎥\n",
      "⎢───  0    0    0⎥\n",
      "⎢ r              ⎥\n",
      "⎢                ⎥\n",
      "⎣ 0   0    0    0⎦\n",
      "\n",
      "R^t_θ2μν:\n",
      "⎡                            2     ⎤\n",
      "⎢                    -G⋅m⋅sin (θ₁) ⎥\n",
      "⎢     0        0  0  ──────────────⎥\n",
      "⎢                          r       ⎥\n",
      "⎢                                  ⎥\n",
      "⎢     0        0  0        0       ⎥\n",
      "⎢                                  ⎥\n",
      "⎢     0        0  0        0       ⎥\n",
      "⎢                                  ⎥\n",
      "⎢       2                          ⎥\n",
      "⎢G⋅m⋅sin (θ₁)                      ⎥\n",
      "⎢────────────  0  0        0       ⎥\n",
      "⎣     r                            ⎦\n",
      "\n",
      "R^r_tμν:\n",
      "⎡                   2⋅G⋅m⋅(-2⋅G⋅m + r)      ⎤\n",
      "⎢        0          ──────────────────  0  0⎥\n",
      "⎢                            4              ⎥\n",
      "⎢                           r               ⎥\n",
      "⎢                                           ⎥\n",
      "⎢2⋅G⋅m⋅(2⋅G⋅m - r)                          ⎥\n",
      "⎢─────────────────          0           0  0⎥\n",
      "⎢        4                                  ⎥\n",
      "⎢       r                                   ⎥\n",
      "⎢                                           ⎥\n",
      "⎢        0                  0           0  0⎥\n",
      "⎢                                           ⎥\n",
      "⎣        0                  0           0  0⎦\n",
      "\n",
      "R^r_rμν:\n",
      "⎡0  0  0  0⎤\n",
      "⎢          ⎥\n",
      "⎢0  0  0  0⎥\n",
      "⎢          ⎥\n",
      "⎢0  0  0  0⎥\n",
      "⎢          ⎥\n",
      "⎣0  0  0  0⎦\n",
      "\n",
      "R^r_θ1μν:\n",
      "⎡0   0     0    0⎤\n",
      "⎢                ⎥\n",
      "⎢        -G⋅m    ⎥\n",
      "⎢0   0   ─────  0⎥\n",
      "⎢          r     ⎥\n",
      "⎢                ⎥\n",
      "⎢   G⋅m          ⎥\n",
      "⎢0  ───    0    0⎥\n",
      "⎢    r           ⎥\n",
      "⎢                ⎥\n",
      "⎣0   0     0    0⎦\n",
      "\n",
      "R^r_θ2μν:\n",
      "⎡0       0        0        0       ⎤\n",
      "⎢                                  ⎥\n",
      "⎢                            2     ⎥\n",
      "⎢                    -G⋅m⋅sin (θ₁) ⎥\n",
      "⎢0       0        0  ──────────────⎥\n",
      "⎢                          r       ⎥\n",
      "⎢                                  ⎥\n",
      "⎢0       0        0        0       ⎥\n",
      "⎢                                  ⎥\n",
      "⎢          2                       ⎥\n",
      "⎢   G⋅m⋅sin (θ₁)                   ⎥\n",
      "⎢0  ────────────  0        0       ⎥\n",
      "⎣        r                         ⎦\n",
      "\n",
      "R^θ1_tμν:\n",
      "⎡                     G⋅m⋅(2⋅G⋅m - r)   ⎤\n",
      "⎢       0          0  ───────────────  0⎥\n",
      "⎢                            4          ⎥\n",
      "⎢                           r           ⎥\n",
      "⎢                                       ⎥\n",
      "⎢       0          0         0         0⎥\n",
      "⎢                                       ⎥\n",
      "⎢G⋅m⋅(-2⋅G⋅m + r)                       ⎥\n",
      "⎢────────────────  0         0         0⎥\n",
      "⎢        4                              ⎥\n",
      "⎢       r                               ⎥\n",
      "⎢                                       ⎥\n",
      "⎣       0          0         0         0⎦\n",
      "\n",
      "R^θ1_rμν:\n",
      "⎡0        0                0         0⎤\n",
      "⎢                                     ⎥\n",
      "⎢                         G⋅m         ⎥\n",
      "⎢0        0         ───────────────  0⎥\n",
      "⎢                    2                ⎥\n",
      "⎢                   r ⋅(-2⋅G⋅m + r)   ⎥\n",
      "⎢                                     ⎥\n",
      "⎢        G⋅m                          ⎥\n",
      "⎢0  ──────────────         0         0⎥\n",
      "⎢    2                                ⎥\n",
      "⎢   r ⋅(2⋅G⋅m - r)                    ⎥\n",
      "⎢                                     ⎥\n",
      "⎣0        0                0         0⎦\n",
      "\n",
      "R^θ1_θ1μν:\n",
      "⎡0  0  0  0⎤\n",
      "⎢          ⎥\n",
      "⎢0  0  0  0⎥\n",
      "⎢          ⎥\n",
      "⎢0  0  0  0⎥\n",
      "⎢          ⎥\n",
      "⎣0  0  0  0⎦\n",
      "\n",
      "R^θ1_θ2μν:\n",
      "⎡0  0         0                0       ⎤\n",
      "⎢                                      ⎥\n",
      "⎢0  0         0                0       ⎥\n",
      "⎢                                      ⎥\n",
      "⎢                                 2    ⎥\n",
      "⎢                        2⋅G⋅m⋅sin (θ₁)⎥\n",
      "⎢0  0         0          ──────────────⎥\n",
      "⎢                              r       ⎥\n",
      "⎢                                      ⎥\n",
      "⎢                2                     ⎥\n",
      "⎢      -2⋅G⋅m⋅sin (θ₁)                 ⎥\n",
      "⎢0  0  ────────────────        0       ⎥\n",
      "⎣             r                        ⎦\n",
      "\n",
      "R^θ2_tμν:\n",
      "⎡                        G⋅m⋅(2⋅G⋅m - r)⎤\n",
      "⎢       0          0  0  ───────────────⎥\n",
      "⎢                               4       ⎥\n",
      "⎢                              r        ⎥\n",
      "⎢                                       ⎥\n",
      "⎢       0          0  0         0       ⎥\n",
      "⎢                                       ⎥\n",
      "⎢       0          0  0         0       ⎥\n",
      "⎢                                       ⎥\n",
      "⎢G⋅m⋅(-2⋅G⋅m + r)                       ⎥\n",
      "⎢────────────────  0  0         0       ⎥\n",
      "⎢        4                              ⎥\n",
      "⎣       r                               ⎦\n",
      "\n",
      "R^θ2_rμν:\n",
      "⎡0        0         0         0       ⎤\n",
      "⎢                                     ⎥\n",
      "⎢                            G⋅m      ⎥\n",
      "⎢0        0         0  ───────────────⎥\n",
      "⎢                       2             ⎥\n",
      "⎢                      r ⋅(-2⋅G⋅m + r)⎥\n",
      "⎢                                     ⎥\n",
      "⎢0        0         0         0       ⎥\n",
      "⎢                                     ⎥\n",
      "⎢        G⋅m                          ⎥\n",
      "⎢0  ──────────────  0         0       ⎥\n",
      "⎢    2                                ⎥\n",
      "⎣   r ⋅(2⋅G⋅m - r)                    ⎦\n",
      "\n",
      "R^θ2_θ1μν:\n",
      "⎡0  0    0       0   ⎤\n",
      "⎢                    ⎥\n",
      "⎢0  0    0       0   ⎥\n",
      "⎢                    ⎥\n",
      "⎢             -2⋅G⋅m ⎥\n",
      "⎢0  0    0    ───────⎥\n",
      "⎢                r   ⎥\n",
      "⎢                    ⎥\n",
      "⎢      2⋅G⋅m         ⎥\n",
      "⎢0  0  ─────     0   ⎥\n",
      "⎣        r           ⎦\n",
      "\n",
      "R^θ2_θ2μν:\n",
      "⎡0  0  0  0⎤\n",
      "⎢          ⎥\n",
      "⎢0  0  0  0⎥\n",
      "⎢          ⎥\n",
      "⎢0  0  0  0⎥\n",
      "⎢          ⎥\n",
      "⎣0  0  0  0⎦\n"
     ]
    }
   ],
   "source": [
    "# print('\\nSchwarzschild Riemann tensor:')\n",
    "# pprint(Schwarzschild.riemann_tensor)\n",
    "#Schwarzschild.get_covariant_riemann()\n",
    "\n",
    "print('Schwarzschild Riemann components:')\n",
    "for rho, i in enumerate(Schwarzschild.coords):\n",
    "    for sigma, j in enumerate(Schwarzschild.coords):\n",
    "        print(f'\\nR^{i}_{j}μν:')\n",
    "        pprint(Schwarzschild.riemann_tensor[rho, sigma])\n",
    "\n",
    "#print('\\nSchwarzschild covariant Riemann component:')\n",
    "#for rho, coord1 in enumerate(Schwarzschild.coords):\n",
    "#    for sigma, coord2 in enumerate(Schwarzschild.coords):\n",
    "#        print(f'\\nΓ_{coord1}{coord2}μν:')\n",
    "#        pprint(Schwarzschild.covariant_riemann[rho, sigma]) \n"
   ]
  },
  {
   "cell_type": "markdown",
   "id": "2006c9f6-e265-40af-aa3e-211b9b83f6a1",
   "metadata": {},
   "source": [
    "#### while, instead, the flat spacetime constructed in a few cells above as\n",
    "$$(g_{\\mu\\nu})=\\begin{bmatrix}\n",
    "-1&0&0&0\\\\\n",
    "0&1&0&0\\\\\n",
    "0&0&r^2&0\\\\\n",
    "0&0&0&r^2\\sin^2(\\theta)\n",
    "\\end{bmatrix}$$\n",
    "#### is really flat, since its $\\mathbf{Riem}_g\\equiv0$.\n",
    "\n",
    "#### ***On the Kretschmann invariant***\n",
    "There is another curvature invariant that can be derived from the Riemann tensor, known as the **Kretschmann scalar** $\\mathbf{K}_g=R_{\\rho\\sigma\\mu\\nu}R^{\\rho\\sigma\\mu\\nu}$. This scalar provides fundamental information about the curvature of a manifold that cannot be inferred from the Ricci tensor or the scalar curvature alone. For instance, while the Schwarzschild metric is Ricci-flat (and therefore scalar-flat), its curvature is neither truly zero nor constant, as $\\mathbf{K}_g$ is a function of the radial coordinate $r$, as shown in the following"
   ]
  },
  {
   "cell_type": "code",
   "execution_count": 21,
   "id": "de9564ba-7f63-4105-a4d7-2b00ab37384a",
   "metadata": {},
   "outputs": [
    {
     "name": "stdout",
     "output_type": "stream",
     "text": [
      "\n",
      "Is the flat spacetime truly flat? True\n",
      "Kretschmann curvature of the flat spacetime: 0\n",
      "\n",
      "Is Schwarzschild spacetime flat? False\n",
      "Kretschmann curvature of the Schwarzschild spacetime: 48*G**2*m**2/r**6\n"
     ]
    }
   ],
   "source": [
    "print('\\nIs the flat spacetime truly flat?', flat_spacetime.is_flat())\n",
    "\n",
    "flat_spacetime.get_geometrics()\n",
    "print('Kretschmann curvature of the flat spacetime:', flat_spacetime.kretschmann_scalar)\n",
    "\n",
    "print('\\nIs Schwarzschild spacetime flat?', Schwarzschild.is_flat())\n",
    "print('Kretschmann curvature of the Schwarzschild spacetime:', Schwarzschild.kretschmann_scalar)"
   ]
  },
  {
   "cell_type": "code",
   "execution_count": null,
   "id": "782e58fa-e44f-4e36-a36e-4f595bc84e1f",
   "metadata": {},
   "outputs": [],
   "source": []
  },
  {
   "cell_type": "markdown",
   "id": "0f1bfa78-93c3-407e-acfe-769f881cd47d",
   "metadata": {},
   "source": [
    "#### It is also said that Schwarzschild spacetime is asymptotically flat, as it is a Lorentzian manifold where, roughly speaking, the curvature vanishes at large distances from the event horizon $r=2Gm$. However, this feature cannot be captured by the scalar curvature $\\mathbf{R}$ or the Ricci curvature $\\mathbf{Ric}$. Instead, it can be inferred from the Kretschmann scalar $\\mathbf{K}=48\\frac{G^2\\,m^2}{r^6}$, which also reveals that the curvature increases sharply near the horizon, reaching $\\frac{3}{4}(Gm)^{-4}$, diverges at the singularity $r\\to0$ and vanishes as $r\\to+\\infty$."
   ]
  },
  {
   "cell_type": "code",
   "execution_count": null,
   "id": "4469ee62-315b-49f8-9c2a-c2c250684924",
   "metadata": {},
   "outputs": [],
   "source": []
  },
  {
   "cell_type": "code",
   "execution_count": null,
   "id": "95a93ee3-c21a-430c-8e92-87744710226f",
   "metadata": {},
   "outputs": [],
   "source": []
  },
  {
   "cell_type": "markdown",
   "id": "672c66ac-d45d-467e-a8fb-dbc99f17c405",
   "metadata": {},
   "source": [
    "### **The FLRW spacetime model**\n",
    "\n",
    "#### The Friedmann-Lemaître-Robertson-Walker is a parametrized family of solutions of the Einstein equations which writes in the form\n",
    "\n",
    "$$g_K=-dt\\otimes dt^2+\\Omega^2(t)\\left(\\frac{dr\\otimes dr}{1-K\\,r^2}+r^2\\left(d\\theta\\otimes d\\theta+\\sin^2(\\theta)d\\phi\\otimes d\\phi\\right)\\right)$$\n",
    "#### It is are equivalent to the flat, spherical and hyperbolic model, depending on the sign of $K\\in C^\\infty(\\Sigma)$, being $\\Sigma$ the standard leave of a foliation induced by the hyperbolic structure of such a spacetime $(M^{1,3},g_K)$."
   ]
  },
  {
   "cell_type": "code",
   "execution_count": 22,
   "id": "ab1d946d-5912-4797-9935-1014d19ef229",
   "metadata": {},
   "outputs": [
    {
     "name": "stdout",
     "output_type": "stream",
     "text": [
      "FLRW general metric\n",
      "⎡-1      0          0             0        ⎤\n",
      "⎢                                          ⎥\n",
      "⎢       2                                  ⎥\n",
      "⎢      Ω (t)                               ⎥\n",
      "⎢0   ──────────     0             0        ⎥\n",
      "⎢         2                                ⎥\n",
      "⎢    - K⋅r  + 1                            ⎥\n",
      "⎢                                          ⎥\n",
      "⎢                 2  2                     ⎥\n",
      "⎢0       0       r ⋅Ω (t)         0        ⎥\n",
      "⎢                                          ⎥\n",
      "⎢                           2  2       2   ⎥\n",
      "⎣0       0          0      r ⋅Ω (t)⋅sin (θ)⎦\n",
      "\n",
      "FLRW Kretschmann invariant:\n",
      "   ⎛                 2                    2⎞\n",
      "   ⎜⎛              2⎞          ⎛ 2       ⎞ ⎟\n",
      "   ⎜⎜    ⎛d       ⎞ ⎟     2    ⎜d        ⎟ ⎟\n",
      "12⋅⎜⎜K + ⎜──(Ω(t))⎟ ⎟  + Ω (t)⋅⎜───(Ω(t))⎟ ⎟\n",
      "   ⎜⎝    ⎝dt      ⎠ ⎠          ⎜  2      ⎟ ⎟\n",
      "   ⎝                           ⎝dt       ⎠ ⎠\n",
      "────────────────────────────────────────────\n",
      "                    4                       \n",
      "                   Ω (t)                    \n",
      "\\frac{12 \\left(\\left(K + \\left(\\frac{d}{d t} Ω{\\left(t \\right)}\\right)^{2}\\right)^{2} + Ω^{2}{\\left(t \\right)} \\left(\\frac{d^{2}}{d t^{2}} Ω{\\left(t \\right)}\\right)^{2}\\right)}{Ω^{4}{\\left(t \\right)}}\n"
     ]
    }
   ],
   "source": [
    "K, r = symbols('K r')\n",
    "Omega = sp.Function('Ω')(t)\n",
    "g_K = Matrix([\n",
    "    [1/(1-K*r**2),0,0], [0,r**2,0], [0,0,r**2*sp.sin(theta)**2]\n",
    "])\n",
    "\n",
    "Sigma = Manifold(g_K, [r, theta, phi])\n",
    "g_FLRW = Sigma.create_spacetime_metric(Omega)\n",
    "FLRW_spacetime = Manifold(g_FLRW, [t, r, theta, phi])\n",
    "\n",
    "print('FLRW general metric')\n",
    "pprint(g_FLRW)\n",
    "\n",
    "#print('\\nFLRW sectional curvatures:\\n')\n",
    "#FLRW_spacetime.print_sectional_curvatures()\n",
    "\n",
    "FLRW_spacetime.get_kretschmann_scalar()\n",
    "print('\\nFLRW Kretschmann invariant:')\n",
    "sp.pprint(FLRW_spacetime.kretschmann_scalar)\n",
    "print(sp.printing.latex(FLRW_spacetime.kretschmann_scalar))"
   ]
  },
  {
   "cell_type": "markdown",
   "id": "707209d4-7bb3-43a6-9801-972a521bb154",
   "metadata": {},
   "source": [
    "$$\\mathbf{K}_{g_K}=\\frac{12 \\left(\\left(K + \\left(\\frac{d}{d t} Ω{\\left(t \\right)}\\right)^{2}\\right)^{2} + Ω^{2}{\\left(t \\right)} \\left(\\frac{d^{2}}{d t^{2}} Ω{\\left(t \\right)}\\right)^{2}\\right)}{Ω^{4}{\\left(t \\right)}}$$"
   ]
  },
  {
   "cell_type": "code",
   "execution_count": 23,
   "id": "ed4d39b6-00c2-455d-831d-aa4e093fd0a6",
   "metadata": {},
   "outputs": [
    {
     "name": "stdout",
     "output_type": "stream",
     "text": [
      "\n",
      "FLRW metric with K=-1\n",
      "⎡-1     0              0                      0            ⎤\n",
      "⎢                                                          ⎥\n",
      "⎢        2                                                 ⎥\n",
      "⎢0   sinh (t)          0                      0            ⎥\n",
      "⎢                                                          ⎥\n",
      "⎢                  2        2                              ⎥\n",
      "⎢0      0      sinh (s)⋅sinh (t)              0            ⎥\n",
      "⎢                                                          ⎥\n",
      "⎢                                    2        2        2   ⎥\n",
      "⎣0      0              0          sin (θ)⋅sinh (s)⋅sinh (t)⎦\n",
      "\n",
      "FLRW Scalar curvature of the leaves for K=-1: -6\n",
      "\n",
      "Does FLRW hyperbolic solve Einstein eqs? True\n",
      "\n",
      "FLRW Kretschmann for K=-1: 24\n"
     ]
    }
   ],
   "source": [
    "K = -1 #hyperbolic curvature parameter\n",
    "r = sinh(s) #hyperbolic change of variable --> dr = cosh(s)ds (*)\n",
    "\n",
    "g_hyp = sp.simplify(\n",
    "    Matrix([\n",
    "    [cosh(s)**2 #(*)\n",
    "     /(1-K*r**2),0,0], [0,r**2,0], [0,0,r**2*sp.sin(theta)**2]\n",
    "])\n",
    ")   \n",
    "\n",
    "Omega = sinh(t)\n",
    "hyp_mfd = Manifold(g_hyp, [s, theta, phi])\n",
    "\n",
    "g_FLRW_hyp = hyp_mfd.create_spacetime_metric(Omega)\n",
    "print('\\nFLRW metric with K=-1')\n",
    "pprint(g_FLRW_hyp)\n",
    "\n",
    "hyp_FLRW_spacetime = Manifold(g_FLRW_hyp, [t, s, theta, phi])\n",
    "\n",
    "hyp_FLRW_spacetime.get_einstein_tensor()\n",
    "hyp_mfd.get_einstein_tensor()\n",
    "hyp_FLRW_spacetime.get_kretschmann_scalar()\n",
    "\n",
    "#cfr H3_spacetime from cells above           \n",
    "#print('\\nHas K=-1 recovered the hyperbolic case?', g_FLRW_hyp == H3_spacetime.metric)\n",
    "\n",
    "print('\\nFLRW Scalar curvature of the leaves for K=-1:', hyp_mfd.scalar_curvature)\n",
    "\n",
    "print('\\nDoes FLRW hyperbolic solve Einstein eqs?', hyp_FLRW_spacetime.vacuum_einstein_eqs(Lambda=hyp_FLRW_spacetime.einstein_constant()))\n",
    "\n",
    "print('\\nFLRW Kretschmann for K=-1:', hyp_FLRW_spacetime.kretschmann_scalar)\n"
   ]
  },
  {
   "cell_type": "markdown",
   "id": "10c73d90-3cfb-4cd5-ba8c-6d5afe5c32e8",
   "metadata": {},
   "source": [
    "#### which coincides with $\\mathbf{K}_{g_{-1}}=\\frac{12}{\\Omega^4(t)}\\left[\\left(K+\\dot{\\Omega}^2(t)\\right)^2+\\Omega^2(t)\\ddot{\\Omega}^2(t)\\right]\\Biggl|_{K=-1,\\,\\Omega(t)=\\sinh(t)}=24$"
   ]
  },
  {
   "cell_type": "code",
   "execution_count": null,
   "id": "a057a3f1-7d1b-40cd-8721-4a0e1e12a354",
   "metadata": {},
   "outputs": [],
   "source": []
  },
  {
   "cell_type": "markdown",
   "id": "9958561d-79fb-476d-a974-038fe1ad6951",
   "metadata": {},
   "source": [
    "$$\\vdots$$"
   ]
  }
 ],
 "metadata": {
  "kernelspec": {
   "display_name": "Python 3 (ipykernel)",
   "language": "python",
   "name": "python3"
  },
  "language_info": {
   "codemirror_mode": {
    "name": "ipython",
    "version": 3
   },
   "file_extension": ".py",
   "mimetype": "text/x-python",
   "name": "python",
   "nbconvert_exporter": "python",
   "pygments_lexer": "ipython3",
   "version": "3.10.11"
  }
 },
 "nbformat": 4,
 "nbformat_minor": 5
}
