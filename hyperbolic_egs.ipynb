{
 "cells": [
  {
   "cell_type": "code",
   "execution_count": 1,
   "id": "f703fe83-dc2d-4d53-94f7-4738f401eceb",
   "metadata": {},
   "outputs": [],
   "source": [
    "from geo_diff import Manifold\n",
    "import sympy as sp\n",
    "from sympy import symbols, Matrix"
   ]
  },
  {
   "cell_type": "code",
   "execution_count": 2,
   "id": "10327128-b860-4a44-9179-041d4f30c044",
   "metadata": {},
   "outputs": [
    {
     "name": "stdout",
     "output_type": "stream",
     "text": [
      "Ricci Tensor:\n",
      "⎡-1      0    ⎤\n",
      "⎢             ⎥\n",
      "⎢         2   ⎥\n",
      "⎣0   -sinh (t)⎦\n",
      "\n",
      "Scalar Curvature: -2\n"
     ]
    }
   ],
   "source": [
    "# Poincaré half plane\n",
    "t, phi = symbols('t phi')\n",
    "g_hyperbolic = Matrix([[1, 0], [0, sp.sinh(t)**2]])\n",
    "manifold_hyperbolic = Manifold(g_hyperbolic, [t, phi])\n",
    "\n",
    "manifold_hyperbolic.compute_christoffel_symbols()\n",
    "manifold_hyperbolic.compute_riemann_tensor()\n",
    "manifold_hyperbolic.compute_ricci_tensor()\n",
    "manifold_hyperbolic.compute_scalar_curvature()\n",
    "\n",
    "manifold_hyperbolic.pretty_print_matrix(manifold_hyperbolic.ricci_tensor, \"Ricci Tensor\")\n",
    "print(\"\\nScalar Curvature:\", manifold_hyperbolic.scalar_curvature)"
   ]
  },
  {
   "cell_type": "code",
   "execution_count": 3,
   "id": "e15d21f7-b7ac-424b-b30b-c9a55d906b87",
   "metadata": {},
   "outputs": [
    {
     "name": "stdout",
     "output_type": "stream",
     "text": [
      "3D Ricci Tensor:\n",
      "⎡-2       0                0         ⎤\n",
      "⎢                                    ⎥\n",
      "⎢           2                        ⎥\n",
      "⎢0   -2⋅sinh (t)           0         ⎥\n",
      "⎢                                    ⎥\n",
      "⎢                       2        2   ⎥\n",
      "⎣0        0       -2⋅sin (θ)⋅sinh (t)⎦\n",
      "\n",
      "3D Scalar Curvature: -6\n"
     ]
    }
   ],
   "source": [
    "# Poincaré half space\n",
    "t, theta, phi = symbols('t theta phi')\n",
    "g_3d_hyp = Matrix([\n",
    "    [1, 0, 0],\n",
    "    [0, sp.sinh(t)**2, 0],\n",
    "    [0, 0, sp.sinh(t)**2 * sp.sin(theta)**2]\n",
    "])\n",
    "manifold_3d_hyp = Manifold(g_3d_hyp, [t, theta, phi])\n",
    "\n",
    "manifold_3d_hyp.compute_christoffel_symbols()\n",
    "manifold_3d_hyp.compute_riemann_tensor()\n",
    "manifold_3d_hyp.compute_ricci_tensor()\n",
    "manifold_3d_hyp.compute_scalar_curvature()\n",
    "\n",
    "manifold_3d_hyp.pretty_print_matrix(manifold_3d_hyp.ricci_tensor, \"3D Ricci Tensor\")\n",
    "print(\"\\n3D Scalar Curvature:\", manifold_3d_hyp.scalar_curvature)"
   ]
  },
  {
   "cell_type": "code",
   "execution_count": 4,
   "id": "8d430219-814e-4ae0-bb3f-bc525d19cfd0",
   "metadata": {},
   "outputs": [
    {
     "name": "stdout",
     "output_type": "stream",
     "text": [
      "4D Ricci Tensor:\n",
      "⎡-3       0                0                        0             ⎤\n",
      "⎢                                                                 ⎥\n",
      "⎢           2                                                     ⎥\n",
      "⎢0   -3⋅sinh (t)           0                        0             ⎥\n",
      "⎢                                                                 ⎥\n",
      "⎢                       2        2                                ⎥\n",
      "⎢0        0       -3⋅sin (θ)⋅sinh (t)               0             ⎥\n",
      "⎢                                                                 ⎥\n",
      "⎢                                            2       2        2   ⎥\n",
      "⎣0        0                0           -3⋅sin (ψ)⋅sin (θ)⋅sinh (t)⎦\n",
      "4D Scalar Curvature: -12\n"
     ]
    }
   ],
   "source": [
    "# Poincaré half hyperspace\n",
    "\n",
    "t, theta, psi, phi = symbols('t theta psi phi')\n",
    "g_4d_hyp = Matrix([\n",
    "    [1, 0, 0, 0],\n",
    "    [0, sp.sinh(t)**2, 0, 0],\n",
    "    [0, 0, sp.sinh(t)**2 * sp.sin(theta)**2, 0],\n",
    "    [0, 0, 0, sp.sinh(t)**2 * sp.sin(theta)**2 * sp.sin(psi)**2]\n",
    "])\n",
    "manifold_4d_hyp = Manifold(g_4d_hyp, [t, theta, psi, phi])\n",
    "\n",
    "manifold_4d_hyp.compute_christoffel_symbols()\n",
    "manifold_4d_hyp.compute_riemann_tensor()\n",
    "manifold_4d_hyp.compute_ricci_tensor()\n",
    "manifold_4d_hyp.compute_scalar_curvature()\n",
    "\n",
    "manifold_4d_hyp.pretty_print_matrix(manifold_4d_hyp.ricci_tensor, \"4D Ricci Tensor\")\n",
    "print(\"4D Scalar Curvature:\", manifold_4d_hyp.scalar_curvature)"
   ]
  },
  {
   "cell_type": "code",
   "execution_count": null,
   "id": "7e18ddce-2505-49a5-bbb4-65de8ff9250c",
   "metadata": {},
   "outputs": [],
   "source": []
  }
 ],
 "metadata": {
  "kernelspec": {
   "display_name": "Python 3 (ipykernel)",
   "language": "python",
   "name": "python3"
  },
  "language_info": {
   "codemirror_mode": {
    "name": "ipython",
    "version": 3
   },
   "file_extension": ".py",
   "mimetype": "text/x-python",
   "name": "python",
   "nbconvert_exporter": "python",
   "pygments_lexer": "ipython3",
   "version": "3.9.6"
  }
 },
 "nbformat": 4,
 "nbformat_minor": 5
}
