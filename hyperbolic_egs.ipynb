{
 "cells": [
  {
   "cell_type": "code",
   "execution_count": 1,
   "id": "f703fe83-dc2d-4d53-94f7-4738f401eceb",
   "metadata": {},
   "outputs": [],
   "source": [
    "from geo_diff import Manifold, print_pretty_matrix\n",
    "import sympy as sp\n",
    "from sympy import symbols, Matrix"
   ]
  },
  {
   "cell_type": "markdown",
   "id": "c5a4298b-327a-4c49-9fff-e4444e1684a1",
   "metadata": {},
   "source": [
    "Te hyperbolic $n-$dimensional half space is defined as $(\\mathbb{H}^n,g)$ by\n",
    "\n",
    "$$\\mathbb{H}^n:=\\left\\{\\left(x^1,...,x^{n+1}\\right)\\in\\mathbb{R}^{1,n}\\,\\,\\big|\\,\\,\\eta(x,x)=1\\,\\,\\&\\,\\,x^{n+1}>0\\right\\}\\hookrightarrow(\\mathbb{R}^{n+1},\\eta)=:\\mathbb{R}^{1,n}$$\n",
    "$$g=\\frac{dr\\otimes dr}{1+r^2}+r^2g_{\\mathbb{S}^{n-1}}=ds\\otimes ds +  \\sinh^2(s)g_{\\mathbb{S}^{n-1}}\\quad\\text{on}\\quad\\mathbb{R}^+\\times\\mathbb{S}^{n-1}$$\n",
    "\n",
    "#### Generalities on curvature\n",
    "\n",
    "Let $\\left(M^\\eta, g, \\nabla\\right)$ be a $n-$dimensional Riemannian (or Lorentzian) manifold of metric $g=\\textcolor{gray}{\\sum_{\\mu,\\nu}}g_{\\mu\\nu} dx^\\mu\\odot dx^\\nu$, provided with its Levi-Civita connection, locally described by $\\nabla_\\mu\\partial_\\nu=\\textcolor{gray}{\\sum_\\lambda}\\Gamma^\\lambda_{\\mu\\nu}\\partial_\\lambda\\,:$\n",
    "$$\\Gamma^\\rho_{\\mu\\nu}=\\frac{1}{2}\\textcolor{gray}{\\sum_{\\lambda=1}^n}g^{\\rho\\lambda}\\left(\\partial_\\nu g_{\\mu\\lambda}+\\partial_\\mu g_{\\nu\\lambda}-\\partial_\\lambda g_{\\mu\\nu}\\right)$$\n",
    "The curvature of $(M, g)$ is completely characterized by the Riemann tensor\n",
    "\n",
    "$$\\mathbf{Riem}_g=\\textcolor{gray}{\\sum_{\\lambda=1}^n}g_{\\lambda\\rho}{R^\\lambda}_{\\sigma\\mu\\nu}dx^\\rho\\wedge dx^\\sigma\\otimes dx^\\mu\\wedge dx^\\nu$$\n",
    "of components\n",
    "$${R^\\rho}_{\\sigma\\mu\\nu}=\\textcolor{gray}{\\sum_{\\lambda=1}^n} \\partial_\\mu\\Gamma^\\rho_{\\nu\\sigma}-\\partial_\\nu\\Gamma^\\rho_{\\mu\\sigma}+\\Gamma^\\rho_{\\mu\\lambda}\\Gamma^\\lambda_{\\nu\\sigma}+\\Gamma^\\rho_{\\nu\\lambda}\\Gamma^\\lambda_{\\mu\\sigma}$$\n",
    "The Riemann tensor posses some non--trivial traces, as the Ricci tensor and the scalar curvature\n",
    "\n",
    "\\begin{align*}\n",
    "    \\mathbf{Ric}_g&=\\textcolor{gray}{\\sum_{\\rho=1}^n}\\overbrace{{R^\\rho}_{\\mu\\rho\\nu}}^{=:R_{\\mu\\nu}}dx^\\mu\\odot dx^\\nu\\\\\n",
    "    \\mathbf{R}_g&=\\textcolor{gray}{\\sum_{\\mu,\\nu=1}^n}g^{\\mu\\nu}R_{\\mu\\nu}\\\\\n",
    "    \\mathbf{Einst}_g&=\\underbrace{R_{\\mu\\nu}-\\frac{1}{2}\\mathbf{R}_g\\,g_{\\mu\\nu}}_{=:G_{\\mu\\nu}}\\,dx^\\mu\\odot dx^\\nu\n",
    "\\end{align*}\n",
    "\n",
    "### Let's compute the curvature of some $\\mathbb{H}^n$."
   ]
  },
  {
   "cell_type": "markdown",
   "id": "6effa9d5-39fe-4719-beca-b79e04493ac1",
   "metadata": {},
   "source": [
    "## The Hyperbolic half-plane, $n=2$.\n",
    "\n",
    "$$g=ds\\odot ds+\\sinh^2(s)d\\phi\\odot d\\phi$$\n",
    "$$\\Rightarrow\\quad\\left(g_{\\mu\\nu}\\right)=\\begin{bmatrix}\n",
    "    1&0\\\\\n",
    "    0&\\sinh^2(s)\n",
    "\\end{bmatrix},\\quad\\mu,\\nu\\in\\{s,\\phi\\}$$"
   ]
  },
  {
   "cell_type": "code",
   "execution_count": 2,
   "id": "10327128-b860-4a44-9179-041d4f30c044",
   "metadata": {},
   "outputs": [
    {
     "name": "stdout",
     "output_type": "stream",
     "text": [
      "Ricci Tensor:\n",
      "⎡-1      0    ⎤\n",
      "⎢             ⎥\n",
      "⎢         2   ⎥\n",
      "⎣0   -sinh (s)⎦\n",
      "\n",
      "Scalar Curvature: -2\n",
      "\n",
      "Sectional Curvature: -1\n"
     ]
    }
   ],
   "source": [
    "# Poincaré half plane\n",
    "s, phi = symbols('s phi')\n",
    "g_hyperbolic = Matrix([[1, 0], [0, sp.sinh(s)**2]])\n",
    "H2 = Manifold(g_hyperbolic, [s, phi])\n",
    "\n",
    "H2.compute_christoffel_symbols()\n",
    "H2.compute_riemann_tensor()\n",
    "H2.compute_ricci_tensor()\n",
    "H2.compute_scalar_curvature()\n",
    "H2.compute_sectional_curvature([1,0],[0,1])\n",
    "\n",
    "print_pretty_matrix(H2.ricci_tensor, \"Ricci Tensor\")\n",
    "print(\"\\nScalar Curvature:\", H2.scalar_curvature)\n",
    "print(\"\\nSectional Curvature:\", H2.sectional_curvature)"
   ]
  },
  {
   "cell_type": "markdown",
   "id": "777a688f-3a46-4c4a-aafa-f408b10817a0",
   "metadata": {},
   "source": [
    "## The Hyperbolic Half-space, $n=3$\n",
    "\n",
    "$$g=ds\\odot ds+\\sinh^2(s) d\\theta\\odot d\\theta+\\sinh^2(s)\\sin^2(\\theta) d\\phi\\odot d\\phi$$\n",
    "\n",
    "$$\\Rightarrow\\quad\\left(g_{\\mu\\nu}\\right)=\\begin{bmatrix}\n",
    "    1&0&0\\\\\n",
    "    0&\\sinh^2(s)&0\\\\\n",
    "    0&0&\\sinh^2(s)\\sin^2(\\theta)\n",
    "\\end{bmatrix},\\quad\\mu,\\nu\\in\\{s, \\theta, \\phi\\}$$\n"
   ]
  },
  {
   "cell_type": "code",
   "execution_count": 3,
   "id": "e15d21f7-b7ac-424b-b30b-c9a55d906b87",
   "metadata": {},
   "outputs": [
    {
     "name": "stdout",
     "output_type": "stream",
     "text": [
      "3D Ricci Tensor:\n",
      "⎡-2       0                0         ⎤\n",
      "⎢                                    ⎥\n",
      "⎢           2                        ⎥\n",
      "⎢0   -2⋅sinh (s)           0         ⎥\n",
      "⎢                                    ⎥\n",
      "⎢                       2        2   ⎥\n",
      "⎣0        0       -2⋅sin (θ)⋅sinh (s)⎦\n",
      "\n",
      "3D Scalar Curvature: -6\n",
      "\n",
      "3D Sectional Curvature: -1\n"
     ]
    }
   ],
   "source": [
    "# Poincaré half space\n",
    "s, theta, phi = symbols('s theta phi')\n",
    "g_3d_hyp = Matrix([\n",
    "    [1, 0, 0],\n",
    "    [0, sp.sinh(s)**2, 0],\n",
    "    [0, 0, sp.sinh(s)**2 * sp.sin(theta)**2]\n",
    "])\n",
    "H3 = Manifold(g_3d_hyp, [s, theta, phi])\n",
    "H3.compute_christoffel_symbols()\n",
    "H3.compute_riemann_tensor()\n",
    "H3.compute_ricci_tensor()\n",
    "H3.compute_scalar_curvature()\n",
    "H3.compute_sectional_curvature([1,0,0],[0,1,0])\n",
    "\n",
    "print_pretty_matrix(H3.ricci_tensor, \"3D Ricci Tensor\")\n",
    "print(\"\\n3D Scalar Curvature:\", H3.scalar_curvature)\n",
    "print(\"\\n3D Sectional Curvature:\", H3.sectional_curvature)"
   ]
  },
  {
   "cell_type": "markdown",
   "id": "82d069fb-fb4f-467b-b18b-d06fcff67bc7",
   "metadata": {},
   "source": [
    "## The Hyperbolic Half-hyperspace, $n=4$\n",
    "\n",
    "$$g=ds\\odot ds+\\sinh^2(s) d\\theta\\odot d\\theta+\\sinh^2(s)\\sin^2(\\theta)d\\psi\\odot d\\psi+\\sinh^2(s)\\sin^2(\\theta)\\sin^2(\\psi)d\\phi\\odot d\\phi$$\n",
    "\n",
    "$$\\Rightarrow\\quad\\left(g_{\\mu\\nu}\\right)=\\begin{bmatrix}\n",
    "    1&0&0&0\\\\\n",
    "    0&\\sinh^2(s)&0&0\\\\\n",
    "    0&0&\\sinh^2(s)\\sin^2(\\theta)&0\\\\\n",
    "    0&0&0&\\sinh^2(s)\\sin^2(\\theta)\\sin^2(\\psi)\n",
    "\\end{bmatrix},\\quad\\mu,\\nu\\in\\{s, \\theta, \\psi, \\phi\\}$$\n"
   ]
  },
  {
   "cell_type": "code",
   "execution_count": 4,
   "id": "8d430219-814e-4ae0-bb3f-bc525d19cfd0",
   "metadata": {},
   "outputs": [
    {
     "name": "stdout",
     "output_type": "stream",
     "text": [
      "4D Ricci Tensor:\n",
      "⎡-3       0                0                        0             ⎤\n",
      "⎢                                                                 ⎥\n",
      "⎢           2                                                     ⎥\n",
      "⎢0   -3⋅sinh (s)           0                        0             ⎥\n",
      "⎢                                                                 ⎥\n",
      "⎢                       2        2                                ⎥\n",
      "⎢0        0       -3⋅sin (θ)⋅sinh (s)               0             ⎥\n",
      "⎢                                                                 ⎥\n",
      "⎢                                            2       2        2   ⎥\n",
      "⎣0        0                0           -3⋅sin (ψ)⋅sin (θ)⋅sinh (s)⎦\n",
      "\n",
      "4D Scalar Curvature: -12\n",
      "\n",
      "4D Sectional Curvature: -1\n"
     ]
    }
   ],
   "source": [
    "# Poincaré half hyperspace\n",
    "\n",
    "s, theta, psi, phi = symbols('s theta psi phi')\n",
    "g_4d_hyp = Matrix([\n",
    "    [1, 0, 0, 0],\n",
    "    [0, sp.sinh(s)**2, 0, 0],\n",
    "    [0, 0, sp.sinh(s)**2 * sp.sin(theta)**2, 0],\n",
    "    [0, 0, 0, sp.sinh(s)**2 * sp.sin(theta)**2 * sp.sin(psi)**2]\n",
    "])\n",
    "H4 = Manifold(g_4d_hyp, [s, theta, psi, phi])\n",
    "\n",
    "H4.compute_christoffel_symbols()\n",
    "H4.compute_riemann_tensor()\n",
    "H4.compute_ricci_tensor()\n",
    "H4.compute_scalar_curvature()\n",
    "H4.compute_sectional_curvature([1,0,0,0],[0,1,0,0])\n",
    "\n",
    "print_pretty_matrix(H4.ricci_tensor, \"4D Ricci Tensor\")\n",
    "print(\"\\n4D Scalar Curvature:\", H4.scalar_curvature)\n",
    "print(\"\\n4D Sectional Curvature:\", H4.sectional_curvature)"
   ]
  },
  {
   "cell_type": "markdown",
   "id": "39bea705-c0f0-4840-a01c-2c40b8a0841d",
   "metadata": {},
   "source": [
    "### Remark\n",
    "\n",
    "It has to be noticed that any hyperbolic space $(\\mathbb{H}^n,g)$ satisfies $\\mathbf{Ric}_g=\\lambda g$, for so-called Einstein constant $\\lambda\\in\\mathbb{R}$. Moreover, such a constant is completely characterized by $\\lambda=\\frac{\\mathbf{R}_g}{n}$"
   ]
  },
  {
   "cell_type": "code",
   "execution_count": 5,
   "id": "c878c75f-a6aa-4cbb-9dbc-1237c3b80775",
   "metadata": {},
   "outputs": [
    {
     "name": "stdout",
     "output_type": "stream",
     "text": [
      "True\n",
      "True\n",
      "True\n"
     ]
    }
   ],
   "source": [
    "mfds = [H2, H3, H4]\n",
    "metrics = [g_hyperbolic, g_3d_hyp, g_4d_hyp]\n",
    "\n",
    "count=0\n",
    "dim = 2\n",
    "for mfd in mfds:\n",
    "    print(mfd.ricci_tensor==mfd.scalar_curvature/dim*metrics[count]) #verifica che Ric=(R/n)g\n",
    "    dim += 1\n",
    "    count += 1"
   ]
  },
  {
   "cell_type": "markdown",
   "id": "a9c73f85-7a0c-4e2a-b9c8-89a8d2a07748",
   "metadata": {},
   "source": [
    "## Construction of the Hyperbolic spacetime\n",
    "\n",
    "By the theory, a physical homogeneous and isotropic universe is modeled by a $4$-dimensional globally hyperbolic spacetime of the form \n",
    "$$(M^{1,3},\\overline{g})\\cong(\\mathbb{R}\\times\\Sigma^3, \\overline{g})$$\n",
    "where $\\Sigma\\in\\{\\mathbb{R}^3, \\mathbb{S}^3, \\mathbb{H}^3\\}$ and - being $s,\\theta,\\phi$ coordinates on $\\Sigma$\n",
    "$$\\overline{g}=-dt\\otimes dt+a^2(t)g_\\Sigma$$\n",
    "for some scale-factor function $a\\in C^\\infty(\\mathbb{R})$. For the hyperbolic case, we have that a metric for a hyperbolic spacetime is of the form\n",
    "\n",
    "$$(\\overline{g}_{ab})=\\begin{bmatrix}\n",
    "    -1&0&0&0\\\\\n",
    "    0&a^2(t)&0&0\\\\\n",
    "    0&0&a^2(t)\\sinh^2(s)&0\\\\\n",
    "    0&0&0&a^2(t)\\sinh^2(s)\\sin(\\theta)\n",
    "\\end{bmatrix}$$"
   ]
  },
  {
   "cell_type": "code",
   "execution_count": 15,
   "id": "791f7797-f6f0-46a5-ae86-a0e13fdc11b3",
   "metadata": {},
   "outputs": [
    {
     "name": "stdout",
     "output_type": "stream",
     "text": [
      "Hyperbolic spacetime metric:\n",
      "⎡-1     0              0                      0            ⎤\n",
      "⎢                                                          ⎥\n",
      "⎢        2                                                 ⎥\n",
      "⎢0   sinh (t)          0                      0            ⎥\n",
      "⎢                                                          ⎥\n",
      "⎢                  2        2                              ⎥\n",
      "⎢0      0      sinh (s)⋅sinh (t)              0            ⎥\n",
      "⎢                                                          ⎥\n",
      "⎢                                    2        2        2   ⎥\n",
      "⎣0      0              0          sin (θ)⋅sinh (s)⋅sinh (t)⎦\n",
      "\n",
      "Spacetime hyp Ricci Tensor:\n",
      "⎡-3      0                0                        0             ⎤\n",
      "⎢                                                                ⎥\n",
      "⎢          2                                                     ⎥\n",
      "⎢0   3⋅sinh (t)           0                        0             ⎥\n",
      "⎢                                                                ⎥\n",
      "⎢                      2        2                                ⎥\n",
      "⎢0       0       3⋅sinh (s)⋅sinh (t)               0             ⎥\n",
      "⎢                                                                ⎥\n",
      "⎢                                          2        2        2   ⎥\n",
      "⎣0       0                0           3⋅sin (θ)⋅sinh (s)⋅sinh (t)⎦\n",
      "\n",
      "Spacetime hyp Scalar Curvature: 12\n",
      "\n",
      "Spacetime hyp Sectional Curvature: -1\n",
      "\n",
      "Spacetime hyp Einstein Tensor:\n",
      "⎡3.0        0                  0                           0               ⎤\n",
      "⎢                                                                          ⎥\n",
      "⎢              2                                                           ⎥\n",
      "⎢ 0   -3.0⋅sinh (t)            0                           0               ⎥\n",
      "⎢                                                                          ⎥\n",
      "⎢                             2        2                                   ⎥\n",
      "⎢ 0         0        -3.0⋅sinh (s)⋅sinh (t)                0               ⎥\n",
      "⎢                                                                          ⎥\n",
      "⎢                                                    2        2        2   ⎥\n",
      "⎣ 0         0                  0             -3.0⋅sin (θ)⋅sinh (s)⋅sinh (t)⎦\n"
     ]
    }
   ],
   "source": [
    "#a, Lambda = symbols('a(t), Lambda')\n",
    "t, s, theta, phi = symbols('t, s, theta, phi')\n",
    "\n",
    "a = sp.sinh(t)\n",
    "\n",
    "g_hyp_spacetime = H3.create_spacetime_metric(a)\n",
    "\n",
    "print_pretty_matrix(g_hyp_spacetime, 'Hyperbolic spacetime metric')\n",
    "\n",
    "H3_spacetime = Manifold(g_hyp_spacetime, [t, s, theta, phi])\n",
    "\n",
    "H3_spacetime.compute_christoffel_symbols()\n",
    "H3_spacetime.compute_riemann_tensor()\n",
    "H3_spacetime.compute_ricci_tensor()\n",
    "H3_spacetime.compute_scalar_curvature()\n",
    "H3_spacetime.compute_einstein_tensor()\n",
    "H3_spacetime.compute_sectional_curvature([1,0,0,0],[0,1,0,0])\n",
    "\n",
    "print_pretty_matrix(H3_spacetime.ricci_tensor, \"\\nSpacetime hyp Ricci Tensor\")\n",
    "print(\"\\nSpacetime hyp Scalar Curvature:\", H3_spacetime.scalar_curvature)\n",
    "print(\"\\nSpacetime hyp Sectional Curvature:\", H3_spacetime.sectional_curvature)\n",
    "\n",
    "print_pretty_matrix(H3_spacetime.einstein_tensor, \"\\nSpacetime hyp Einstein Tensor\")\n"
   ]
  },
  {
   "cell_type": "markdown",
   "id": "88728500-57d4-40c7-bf76-c58344950b10",
   "metadata": {},
   "source": [
    "We notice that also the hyperbolic spacetime $(M^{1,3},g)\\cong(\\mathbb{R}\\times\\mathbb{H}^3,g)$ is an Einstein manifold for a scale function of the form $a(t)=\\sinh(t)$, having $\\mathbf{Ric}_g=\\lambda\\,g$, being $\\lambda=\\frac{\\mathbf{R}_g}{1+3}=\\frac{12}{4}=3$."
   ]
  },
  {
   "cell_type": "code",
   "execution_count": 7,
   "id": "cea5e939-5c24-4e6a-93f0-8623446a6251",
   "metadata": {},
   "outputs": [
    {
     "name": "stdout",
     "output_type": "stream",
     "text": [
      "True\n"
     ]
    }
   ],
   "source": [
    "#print(H3_spacetime.ricci_tensor==3*g_hyp_spacetime)\n",
    "print(H3_spacetime.is_einstein_mfd())"
   ]
  },
  {
   "cell_type": "markdown",
   "id": "175e51e7-be76-44a1-b80d-88d7b3e20687",
   "metadata": {},
   "source": [
    "Hence, it should satisfies Einstein equation for $\\Lambda=\\lambda$\n",
    "$$\\mathbf{Ric}_g-\\frac{1}{2}\\mathbf{R}_g\\,g+\\Lambda\\,g=0$$"
   ]
  },
  {
   "cell_type": "code",
   "execution_count": 8,
   "id": "721079c4-1543-4133-bf13-be049db9a701",
   "metadata": {},
   "outputs": [
    {
     "name": "stdout",
     "output_type": "stream",
     "text": [
      "True\n"
     ]
    }
   ],
   "source": [
    "#einst_const = 3\n",
    "\n",
    "einst_const = H3_spacetime.einstein_constant()\n",
    "print(H3_spacetime.vacuum_einstein_eqs(Lambda=einst_const))"
   ]
  },
  {
   "cell_type": "markdown",
   "id": "a4e7a341-2bfe-46fc-916c-12b0ed7fa7c4",
   "metadata": {},
   "source": [
    "### Conclusion\n",
    "This little notebook proved that the spacetime constructed as a globally hyperbolic manifold with spacelike hypersurfaces being hyperbolic Riemannian manifolds diffeomorphic to $\\mathbb{H}^3$ satisfies Einstein's field equations with an appropriate scale factor $a(t)=\\sinh(t)$. This confirms that the hyperbolic geometry, as well as the flat or the round one, represents a physically admissible universe, showcasing the consistency of such a construction within the framework of General Relativity."
   ]
  },
  {
   "cell_type": "code",
   "execution_count": null,
   "id": "c3ae9cdf-535b-4b97-a8fc-d26b28e35c08",
   "metadata": {},
   "outputs": [],
   "source": []
  },
  {
   "cell_type": "code",
   "execution_count": null,
   "id": "0b38825d-6766-4fa9-b8e4-79f3c4399b2f",
   "metadata": {},
   "outputs": [],
   "source": []
  },
  {
   "cell_type": "code",
   "execution_count": 9,
   "id": "9cc2e3f7-a720-443c-b169-5bc99b3ab82c",
   "metadata": {},
   "outputs": [
    {
     "name": "stdout",
     "output_type": "stream",
     "text": [
      "Flat spacetime metric:\n",
      "⎡-1  0  0       0     ⎤\n",
      "⎢                     ⎥\n",
      "⎢0   1  0       0     ⎥\n",
      "⎢                     ⎥\n",
      "⎢        2            ⎥\n",
      "⎢0   0  s       0     ⎥\n",
      "⎢                     ⎥\n",
      "⎢            2    2   ⎥\n",
      "⎣0   0  0   s ⋅sin (θ)⎦\n",
      "Is it Einstein manifold? True\n",
      "Does it solve Einstein equation? True\n"
     ]
    }
   ],
   "source": [
    "# Appendici\n",
    "# Vediamo la metrica round e flat\n",
    "s, theta, phi = symbols('s, theta, phi')\n",
    "g_R3 = sp.Matrix([\n",
    "    [1,0,0],[0,s**2,0],[0,0,s**2*sp.sin(theta)**2]\n",
    "])\n",
    "\n",
    "R3 = Manifold(g_R3, [s, theta, phi])\n",
    "a, t = symbols('a(t), t')\n",
    "a = 1\n",
    "g_flat_spacetime = R3.create_spacetime_metric(a)\n",
    "print_pretty_matrix(g_flat_spacetime, 'Flat spacetime metric')\n",
    "\n",
    "flat_spacetime = Manifold(g_flat_spacetime, [t, s, theta, phi])\n",
    "print('Is it Einstein manifold?', flat_spacetime.is_einstein_mfd())\n",
    "\n",
    "l = flat_spacetime.einstein_constant()\n",
    "\n",
    "print('Does it solve Einstein equation?', flat_spacetime.vacuum_einstein_eqs(Lambda=l))"
   ]
  },
  {
   "cell_type": "code",
   "execution_count": 10,
   "id": "ea8e16eb-b38b-4678-9569-8cb4e6e6c9ee",
   "metadata": {},
   "outputs": [
    {
     "name": "stdout",
     "output_type": "stream",
     "text": [
      "Round Ricci Tensor:\n",
      "⎡2      0              0        ⎤\n",
      "⎢                               ⎥\n",
      "⎢        2                      ⎥\n",
      "⎢0  2⋅sin (s)          0        ⎥\n",
      "⎢                               ⎥\n",
      "⎢                   2       2   ⎥\n",
      "⎣0      0      2⋅sin (s)⋅sin (θ)⎦\n",
      "\n",
      "Round Scalar Curvature: 6\n",
      "\n",
      "Einstein constant for the round metric: 2\n",
      "Is it Einstein manifold? True\n"
     ]
    }
   ],
   "source": [
    "#s, theta, phi = symbols('s, theta, phi')\n",
    "g_S3 = sp.Matrix([\n",
    "    [1,0,0],[0,sp.sin(s)**2,0],[0,0,sp.sin(s)**2*sp.sin(theta)**2]\n",
    "])\n",
    "\n",
    "S3 = Manifold(g_S3, [s, theta, phi])\n",
    "a, t = symbols('a(t), t')\n",
    "\n",
    "S3.compute_christoffel_symbols()\n",
    "S3.compute_riemann_tensor()\n",
    "S3.compute_ricci_tensor()\n",
    "S3.compute_scalar_curvature()\n",
    "S3.compute_einstein_tensor()\n",
    "\n",
    "print_pretty_matrix(S3.ricci_tensor, \"Round Ricci Tensor\")\n",
    "print(\"\\nRound Scalar Curvature:\", S3.scalar_curvature)\n",
    "print(\"\\nEinstein constant for the round metric:\", S3.einstein_constant())\n",
    "print('Is it Einstein manifold?', S3.is_einstein_mfd())"
   ]
  },
  {
   "cell_type": "code",
   "execution_count": 11,
   "id": "7e282771-7579-4d4f-99be-e834bf8fb51d",
   "metadata": {},
   "outputs": [
    {
     "name": "stdout",
     "output_type": "stream",
     "text": [
      "Round spacetime metric:\n",
      "⎡-1  0     0            0       ⎤\n",
      "⎢                               ⎥\n",
      "⎢0   1     0            0       ⎥\n",
      "⎢                               ⎥\n",
      "⎢          2                    ⎥\n",
      "⎢0   0  sin (s)         0       ⎥\n",
      "⎢                               ⎥\n",
      "⎢                   2       2   ⎥\n",
      "⎣0   0     0     sin (s)⋅sin (θ)⎦\n",
      "\n",
      "Spacetime round Ricci Tensor:\n",
      "⎡0  0      0              0        ⎤\n",
      "⎢                                  ⎥\n",
      "⎢0  2      0              0        ⎥\n",
      "⎢                                  ⎥\n",
      "⎢           2                      ⎥\n",
      "⎢0  0  2⋅sin (s)          0        ⎥\n",
      "⎢                                  ⎥\n",
      "⎢                      2       2   ⎥\n",
      "⎣0  0      0      2⋅sin (s)⋅sin (θ)⎦\n",
      "\n",
      "Spacetime round Scalar Curvature: 6\n",
      "\n",
      "Spacetime round Einstein Tensor:\n",
      "⎡3.0   0         0                 0          ⎤\n",
      "⎢                                             ⎥\n",
      "⎢ 0   -1.0       0                 0          ⎥\n",
      "⎢                                             ⎥\n",
      "⎢                   2                         ⎥\n",
      "⎢ 0    0    -1.0⋅sin (s)           0          ⎥\n",
      "⎢                                             ⎥\n",
      "⎢                                 2       2   ⎥\n",
      "⎣ 0    0         0        -1.0⋅sin (s)⋅sin (θ)⎦\n",
      "False\n"
     ]
    }
   ],
   "source": [
    "a = 1\n",
    "g_round_spacetime = S3.create_spacetime_metric(a)\n",
    "print_pretty_matrix(g_round_spacetime, 'Round spacetime metric')\n",
    "\n",
    "round_spacetime = Manifold(g_round_spacetime, [t, s, theta, phi])\n",
    "\n",
    "round_spacetime.compute_christoffel_symbols()\n",
    "round_spacetime.compute_riemann_tensor()\n",
    "round_spacetime.compute_ricci_tensor()\n",
    "round_spacetime.compute_scalar_curvature()\n",
    "round_spacetime.compute_einstein_tensor()\n",
    "\n",
    "print_pretty_matrix(round_spacetime.ricci_tensor, \"\\nSpacetime round Ricci Tensor\")\n",
    "print(\"\\nSpacetime round Scalar Curvature:\", round_spacetime.scalar_curvature)\n",
    "\n",
    "print_pretty_matrix(round_spacetime.einstein_tensor, \"\\nSpacetime round Einstein Tensor\")\n",
    "\n",
    "print(flat_spacetime.vacuum_einstein_eqs(Lambda=-round_spacetime.einstein_constant()))"
   ]
  },
  {
   "cell_type": "code",
   "execution_count": 12,
   "id": "2a948c27-d685-422f-83d0-afee3e157509",
   "metadata": {},
   "outputs": [],
   "source": [
    "#Dobbiamo risolvere le equazioni di Friedmann per trovare l'opportuno scale factor a."
   ]
  },
  {
   "cell_type": "code",
   "execution_count": null,
   "id": "0e442269-aa8e-4e0b-abba-d25e13e5252b",
   "metadata": {},
   "outputs": [],
   "source": []
  }
 ],
 "metadata": {
  "kernelspec": {
   "display_name": "Python 3 (ipykernel)",
   "language": "python",
   "name": "python3"
  },
  "language_info": {
   "codemirror_mode": {
    "name": "ipython",
    "version": 3
   },
   "file_extension": ".py",
   "mimetype": "text/x-python",
   "name": "python",
   "nbconvert_exporter": "python",
   "pygments_lexer": "ipython3",
   "version": "3.9.6"
  }
 },
 "nbformat": 4,
 "nbformat_minor": 5
}
