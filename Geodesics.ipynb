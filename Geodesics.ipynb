{
 "cells": [
  {
   "cell_type": "markdown",
   "id": "599d1fa7-2528-48e0-b8aa-a1039f2562fc",
   "metadata": {},
   "source": [
    "### Geodesics of the Poincaré half-disc $\\mathbb{H}^2$"
   ]
  },
  {
   "cell_type": "code",
   "execution_count": 5,
   "id": "51ee0539-220a-455a-af01-d149e9db14bb",
   "metadata": {},
   "outputs": [
    {
     "name": "stdout",
     "output_type": "stream",
     "text": [
      "\n",
      "Equazioni Geodetiche per H2:\n",
      "\n",
      "Equazione lungo s:\n",
      "                          2    2           \n",
      "                ⎛d       ⎞    d            \n",
      "sinh(s)⋅cosh(s)⋅⎜──(θ(τ))⎟  + ───(s(τ)) = 0\n",
      "                ⎝dτ      ⎠      2          \n",
      "                              dτ           \n",
      "In formato LaTeX:\n",
      "\\sinh{\\left(s \\right)} \\cosh{\\left(s \\right)} \\left(\\frac{d}{d τ} θ{\\left(τ \\right)}\\right)^{2} + \\frac{d^{2}}{d τ^{2}} s{\\left(τ \\right)} = 0\n",
      "\n",
      "Equazione lungo θ:\n",
      "                      d        d           \n",
      " 2          2⋅cosh(s)⋅──(s(τ))⋅──(θ(τ))    \n",
      "d                     dτ       dτ          \n",
      "───(θ(τ)) - ─────────────────────────── = 0\n",
      "  2                   sinh(s)              \n",
      "dτ                                         \n",
      "In formato LaTeX:\n",
      "\\frac{d^{2}}{d τ^{2}} θ{\\left(τ \\right)} - \\frac{2 \\cosh{\\left(s \\right)} \\frac{d}{d τ} s{\\left(τ \\right)} \\frac{d}{d τ} θ{\\left(τ \\right)}}{\\sinh{\\left(s \\right)}} = 0\n"
     ]
    }
   ],
   "source": [
    "import sympy as sp\n",
    "from geo_diff import Manifold, Submanifold\n",
    "from sympy import pprint\n",
    "from sympy.printing.latex import latex\n",
    "\n",
    "# Definizione della metrica per una sfera in coordinate polari\n",
    "s, theta = sp.symbols('s θ')\n",
    "coords = [s, theta]\n",
    "metric = sp.Matrix([\n",
    "    [1, 0],\n",
    "    [0, sp.sinh(s)**2]\n",
    "])\n",
    "\n",
    "# Creazione della varietà\n",
    "hyp_plane = Manifold(metric, [s, theta])\n",
    "\n",
    "# Calcolo delle equazioni geodetiche\n",
    "# geodesics = hyp_plane.compute_geodesic_equations()\n",
    "# for eq in geodesics:\n",
    "#    print(eq)\n",
    "hyp_plane.compute_geodesic_equations()\n",
    "\n",
    "eq1 = hyp_plane.geodesics[0]\n",
    "eq2 = hyp_plane.geodesics[1] #sono di tipo Sympy Equality\n",
    "\n",
    "# Visualizzazione delle equazioni\n",
    "print(\"\\nEquazioni Geodetiche per H2:\\n\")\n",
    "print(f\"Equazione lungo {coords[0]}:\")\n",
    "pprint(eq1)  # Stampa leggibile in console\n",
    "print(\"In formato LaTeX:\")\n",
    "print(f'{latex(eq1)}')  # Output LaTeX-friendly\n",
    "\n",
    "print(f\"\\nEquazione lungo {coords[1]}:\")\n",
    "pprint(eq2)\n",
    "print(\"In formato LaTeX:\")\n",
    "print(latex(eq2))"
   ]
  },
  {
   "cell_type": "markdown",
   "id": "2d3c7366-15d9-40b8-8533-e9c8b887cc2a",
   "metadata": {},
   "source": [
    "Equazioni geodetiche di $\\mathbb{S}^2$\n",
    "$$\\begin{cases}\n",
    "    \\sin{\\left(θ \\right)} \\cos{\\left(θ \\right)} \\left(\\frac{d}{d τ} ϕ{\\left(τ \\right)}\\right)^{2} + \\frac{d^{2}}{d τ^{2}} θ{\\left(τ \\right)} = 0\\\\\n",
    "    \\frac{d^{2}}{d τ^{2}} ϕ{\\left(τ \\right)} - \\frac{2 \\cos{\\left(θ \\right)} \\frac{d}{d τ} θ{\\left(τ \\right)} \\frac{d}{d τ} ϕ{\\left(τ \\right)}}{\\sin{\\left(θ \\right)}} = 0\n",
    "\\end{cases}$$\n",
    "\n",
    "Equazioni geodetiche di $\\mathbb{H}^2$\n",
    "$$\\begin{cases}\n",
    "    \\sinh{\\left(s \\right)} \\cosh{\\left(s \\right)} \\left(\\frac{d}{d τ} θ{\\left(τ \\right)}\\right)^{2} + \\frac{d^{2}}{d τ^{2}} s{\\left(τ \\right)} = 0\\\\\n",
    "    \\frac{d^{2}}{d τ^{2}} θ{\\left(τ \\right)} - \\frac{2 \\cosh{\\left(s \\right)} \\frac{d}{d τ} s{\\left(τ \\right)} \\frac{d}{d τ} θ{\\left(τ \\right)}}{\\sinh{\\left(s \\right)}} = 0\n",
    "\\end{cases}$$\n",
    "\n"
   ]
  },
  {
   "cell_type": "code",
   "execution_count": null,
   "id": "c3564a3f-6be2-463f-9f73-6b58968c944a",
   "metadata": {},
   "outputs": [],
   "source": []
  },
  {
   "cell_type": "markdown",
   "id": "ac211996-0178-4483-81f3-0cf9a3f07d48",
   "metadata": {},
   "source": [
    "## Geodesics of $\\mathbb{H}^3$"
   ]
  },
  {
   "cell_type": "code",
   "execution_count": 11,
   "id": "85c88c83-ac4b-4947-8237-d01d824568a8",
   "metadata": {},
   "outputs": [
    {
     "name": "stdout",
     "output_type": "stream",
     "text": [
      "\n",
      "H3 geodesics equations:\n",
      "\n",
      "Geodesic along coordinate s:\n",
      "                                  2                             2    2         ↪\n",
      "   2                    ⎛d       ⎞                    ⎛d       ⎞    d          ↪\n",
      "sin (θ)⋅sinh(s)⋅cosh(s)⋅⎜──(ϕ(τ))⎟  + sinh(s)⋅cosh(s)⋅⎜──(θ(τ))⎟  + ───(s(τ))  ↪\n",
      "                        ⎝dτ      ⎠                    ⎝dτ      ⎠      2        ↪\n",
      "                                                                    dτ         ↪\n",
      "\n",
      "↪    \n",
      "↪    \n",
      "↪ = 0\n",
      "↪    \n",
      "↪    \n",
      "\n",
      "In formato LaTeX:\n",
      "\\sin^{2}{\\left(θ \\right)} \\sinh{\\left(s \\right)} \\cosh{\\left(s \\right)} \\left(\\frac{d}{d τ} ϕ{\\left(τ \\right)}\\right)^{2} + \\sinh{\\left(s \\right)} \\cosh{\\left(s \\right)} \\left(\\frac{d}{d τ} θ{\\left(τ \\right)}\\right)^{2} + \\frac{d^{2}}{d τ^{2}} s{\\left(τ \\right)} = 0\n",
      "\n",
      "Geodesic along coordinate θ:\n",
      "                                                  d        d           \n",
      "                        2    2          2⋅cosh(s)⋅──(s(τ))⋅──(θ(τ))    \n",
      "              ⎛d       ⎞    d                     dτ       dτ          \n",
      "sin(θ)⋅cos(θ)⋅⎜──(ϕ(τ))⎟  + ───(θ(τ)) - ─────────────────────────── = 0\n",
      "              ⎝dτ      ⎠      2                   sinh(s)              \n",
      "                            dτ                                         \n",
      "\n",
      "In formato LaTeX:\n",
      "\\sin{\\left(θ \\right)} \\cos{\\left(θ \\right)} \\left(\\frac{d}{d τ} ϕ{\\left(τ \\right)}\\right)^{2} + \\frac{d^{2}}{d τ^{2}} θ{\\left(τ \\right)} - \\frac{2 \\cosh{\\left(s \\right)} \\frac{d}{d τ} s{\\left(τ \\right)} \\frac{d}{d τ} θ{\\left(τ \\right)}}{\\sinh{\\left(s \\right)}} = 0\n",
      "\n",
      "Geodesic along coordinate ϕ:\n",
      "                      d        d                   d        d           \n",
      " 2          2⋅cosh(s)⋅──(s(τ))⋅──(ϕ(τ))   2⋅cos(θ)⋅──(θ(τ))⋅──(ϕ(τ))    \n",
      "d                     dτ       dτ                  dτ       dτ          \n",
      "───(ϕ(τ)) - ─────────────────────────── - ────────────────────────── = 0\n",
      "  2                   sinh(s)                       sin(θ)              \n",
      "dτ                                                                      \n",
      "\n",
      "In formato LaTeX:\n",
      "\\frac{d^{2}}{d τ^{2}} ϕ{\\left(τ \\right)} - \\frac{2 \\cosh{\\left(s \\right)} \\frac{d}{d τ} s{\\left(τ \\right)} \\frac{d}{d τ} ϕ{\\left(τ \\right)}}{\\sinh{\\left(s \\right)}} - \\frac{2 \\cos{\\left(θ \\right)} \\frac{d}{d τ} θ{\\left(τ \\right)} \\frac{d}{d τ} ϕ{\\left(τ \\right)}}{\\sin{\\left(θ \\right)}} = 0\n"
     ]
    }
   ],
   "source": [
    "t, x, y, z = sp.symbols('t x y z')\n",
    "g_minkowski = sp.Matrix([[-1,0,0,0],[0,1,0,0],[0,0,1,0],[0,0,0,1]])\n",
    "R13 = Manifold(g_minkowski, [t, x, y, z])\n",
    "\n",
    "s, theta, phi = sp.symbols('s, θ, ϕ')\n",
    "H3_embedding = [sp.cosh(s), sp.sinh(s)*sp.cos(theta), sp.sinh(s)*sp.sin(theta)*sp.cos(phi), sp.sinh(s)*sp.sin(theta)*sp.sin(phi)]\n",
    "H3 = Submanifold(R13, [s, theta, phi], H3_embedding)\n",
    "\n",
    "H3.compute_induced_metric()\n",
    "H3.compute_geodesic_equations()\n",
    "geodesics = H3.geodesics\n",
    "\n",
    "eqs_list = []\n",
    "print('\\nH3 geodesics equations:')\n",
    "for i, coord in enumerate(H3.coords):\n",
    "    \n",
    "    eqs_list.append(geodesics[i])\n",
    "    print(f\"\\nGeodesic along coordinate {coord}:\") # equivalente a {H3.coords[i]}\n",
    "    pprint(eqs_list[i])  # Stampa leggibile in console\n",
    "    print(\"\\nIn formato LaTeX:\")\n",
    "    print(f'{latex(eqs_list[i])}')  # Output LaTeX-friendly"
   ]
  },
  {
   "cell_type": "markdown",
   "id": "646f73f5-9cee-4751-b36d-8f935a9e7cd6",
   "metadata": {},
   "source": [
    "\\begin{cases}\n",
    "    \\sin^{2}{\\left(θ \\right)} \\sinh{\\left(s \\right)} \\cosh{\\left(s \\right)} \\left(\\frac{d}{d τ} ϕ{\\left(τ \\right)}\\right)^{2} + \\sinh{\\left(s \\right)} \\cosh{\\left(s \\right)} \\left(\\frac{d}{d τ} θ{\\left(τ \\right)}\\right)^{2} + \\frac{d^{2}}{d τ^{2}} s{\\left(τ \\right)} = 0\\\\\n",
    "    \\sin{\\left(θ \\right)} \\cos{\\left(θ \\right)} \\left(\\frac{d}{d τ} ϕ{\\left(τ \\right)}\\right)^{2} + \\frac{d^{2}}{d τ^{2}} θ{\\left(τ \\right)} - \\frac{2 \\cosh{\\left(s \\right)} \\frac{d}{d τ} s{\\left(τ \\right)} \\frac{d}{d τ} θ{\\left(τ \\right)}}{\\sinh{\\left(s \\right)}} = 0\\\\\n",
    "    \\frac{d^{2}}{d τ^{2}} ϕ{\\left(τ \\right)} - \\frac{2 \\cosh{\\left(s \\right)} \\frac{d}{d τ} s{\\left(τ \\right)} \\frac{d}{d τ} ϕ{\\left(τ \\right)}}{\\sinh{\\left(s \\right)}} - \\frac{2 \\cos{\\left(θ \\right)} \\frac{d}{d τ} θ{\\left(τ \\right)} \\frac{d}{d τ} ϕ{\\left(τ \\right)}}{\\sin{\\left(θ \\right)}} = 0\n",
    "\\end{cases}"
   ]
  },
  {
   "cell_type": "code",
   "execution_count": null,
   "id": "54b92ede-fd24-4103-ac9d-0a62835debe9",
   "metadata": {},
   "outputs": [],
   "source": []
  }
 ],
 "metadata": {
  "kernelspec": {
   "display_name": "Python 3 (ipykernel)",
   "language": "python",
   "name": "python3"
  },
  "language_info": {
   "codemirror_mode": {
    "name": "ipython",
    "version": 3
   },
   "file_extension": ".py",
   "mimetype": "text/x-python",
   "name": "python",
   "nbconvert_exporter": "python",
   "pygments_lexer": "ipython3",
   "version": "3.9.6"
  }
 },
 "nbformat": 4,
 "nbformat_minor": 5
}
